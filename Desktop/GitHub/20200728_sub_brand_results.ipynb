{
 "cells": [
  {
   "cell_type": "code",
   "execution_count": 1,
   "metadata": {},
   "outputs": [],
   "source": [
    "import pandas as pd\n",
    "import numpy as np\n",
    "import matplotlib.pyplot as plt\n",
    "import seaborn as sns\n",
    "\n",
    "import gsk_data_cleaning\n",
    "import gsk_feature_eng\n",
    "import gsk_modeling\n",
    "import gsk_error_analysis\n",
    "\n",
    "import pycountry\n",
    "\n",
    "from tqdm import tqdm\n",
    "\n",
    "%matplotlib inline"
   ]
  },
  {
   "cell_type": "code",
   "execution_count": 2,
   "metadata": {},
   "outputs": [],
   "source": [
    "np.random.seed(123)\n",
    "\n",
    "pd.options.display.max_rows = 999\n",
    "pd.options.display.max_columns = 999\n",
    "\n",
    "pd.set_option('display.float_format', lambda x: \"%3.f\" % x)"
   ]
  },
  {
   "cell_type": "markdown",
   "metadata": {},
   "source": [
    "-----"
   ]
  },
  {
   "cell_type": "code",
   "execution_count": 3,
   "metadata": {},
   "outputs": [
    {
     "data": {
      "text/html": [
       "<div>\n",
       "<style scoped>\n",
       "    .dataframe tbody tr th:only-of-type {\n",
       "        vertical-align: middle;\n",
       "    }\n",
       "\n",
       "    .dataframe tbody tr th {\n",
       "        vertical-align: top;\n",
       "    }\n",
       "\n",
       "    .dataframe thead th {\n",
       "        text-align: right;\n",
       "    }\n",
       "</style>\n",
       "<table border=\"1\" class=\"dataframe\">\n",
       "  <thead>\n",
       "    <tr style=\"text-align: right;\">\n",
       "      <th></th>\n",
       "      <th>sub_brand</th>\n",
       "      <th>sku</th>\n",
       "      <th>customer</th>\n",
       "      <th>country</th>\n",
       "      <th>month</th>\n",
       "      <th>actuals</th>\n",
       "    </tr>\n",
       "  </thead>\n",
       "  <tbody>\n",
       "    <tr>\n",
       "      <th>26695</th>\n",
       "      <td>AF3505F246</td>\n",
       "      <td>60000000100782</td>\n",
       "      <td>8300000325</td>\n",
       "      <td>Germany</td>\n",
       "      <td>2017-04-01</td>\n",
       "      <td>2220</td>\n",
       "    </tr>\n",
       "    <tr>\n",
       "      <th>15179</th>\n",
       "      <td>AIFG02M05E</td>\n",
       "      <td>515773</td>\n",
       "      <td>8300000160</td>\n",
       "      <td>Germany</td>\n",
       "      <td>2017-06-01</td>\n",
       "      <td>12680</td>\n",
       "    </tr>\n",
       "    <tr>\n",
       "      <th>16665</th>\n",
       "      <td>AIFG02M05E</td>\n",
       "      <td>515774</td>\n",
       "      <td>8300000345</td>\n",
       "      <td>Germany</td>\n",
       "      <td>2016-12-01</td>\n",
       "      <td>200</td>\n",
       "    </tr>\n",
       "    <tr>\n",
       "      <th>17101</th>\n",
       "      <td>AIFG02M05C</td>\n",
       "      <td>514196</td>\n",
       "      <td>8300000284</td>\n",
       "      <td>Germany</td>\n",
       "      <td>2018-07-01</td>\n",
       "      <td>90</td>\n",
       "    </tr>\n",
       "    <tr>\n",
       "      <th>25101</th>\n",
       "      <td>AF3505F0GQ</td>\n",
       "      <td>60000000106898</td>\n",
       "      <td>8300000372</td>\n",
       "      <td>Germany</td>\n",
       "      <td>2017-12-01</td>\n",
       "      <td>36</td>\n",
       "    </tr>\n",
       "  </tbody>\n",
       "</table>\n",
       "</div>"
      ],
      "text/plain": [
       "        sub_brand             sku    customer  country      month  actuals\n",
       "26695  AF3505F246  60000000100782  8300000325  Germany 2017-04-01     2220\n",
       "15179  AIFG02M05E          515773  8300000160  Germany 2017-06-01    12680\n",
       "16665  AIFG02M05E          515774  8300000345  Germany 2016-12-01      200\n",
       "17101  AIFG02M05C          514196  8300000284  Germany 2018-07-01       90\n",
       "25101  AF3505F0GQ  60000000106898  8300000372  Germany 2017-12-01       36"
      ]
     },
     "execution_count": 3,
     "metadata": {},
     "output_type": "execute_result"
    }
   ],
   "source": [
    "sku_sellout_data = pd.read_csv(\"../data/raw_data/export15.csv\", dtype=\"str\")\n",
    "sku_sellin_data = pd.read_csv(\"../data/raw_data/export16.csv\", dtype=\"str\")\n",
    "\n",
    "sku_sellin_data.drop([\"Version.[Version Name]\"], axis=1, inplace=True)\n",
    "sku_sellout_data.drop([\"Version.[Version Name]\"], axis=1, inplace=True)\n",
    "\n",
    "sku_sellin_data.rename(columns = {\"Time.[Planning Month]\": \"month\"\n",
    "                                  , \"Item.[L4]\": \"sub_brand\"\n",
    "                                  , \"Sales Domain.[Channel]\": \"country\"\n",
    "                                  , \"Sales Domain.[Ship To]\": \"customer\" #banner\n",
    "                                  , \"Item.[Planning Item]\": \"sku\"\n",
    "                                  , \"Actual\": \"actuals\"}, inplace=True)\n",
    "\n",
    "sku_sellout_data.rename(columns = {\"Time.[Planning Month]\": \"month\"\n",
    "                                   , \"Item.[L4]\": \"sub_brand\"\n",
    "                                  , \"Sales Domain.[Channel]\": \"country\"\n",
    "                                  , \"Sales Domain.[Ship To]\": \"customer\"\n",
    "                                  , \"Item.[Planning Item]\": \"sku\"\n",
    "                                  , \"Sell Out Actual\": \"actuals\"}, inplace=True)\n",
    "\n",
    "sku_data = pd.concat([sku_sellin_data, sku_sellout_data], axis=0, ignore_index=True)\n",
    "\n",
    "sku_data[\"month\"] = pd.to_datetime(sku_data[\"month\"], format='%b-%y')\n",
    "sku_data[\"actuals\"] = sku_data[\"actuals\"].astype(\"float64\")\n",
    "\n",
    "sku_data = sku_data[sku_data[\"actuals\"]>0]\n",
    "\n",
    "sku_data = sku_data[[\"sub_brand\", \"sku\", \"customer\", \"country\", \"month\", \"actuals\"]]\n",
    "\n",
    "sku_data.sample(5)"
   ]
  },
  {
   "cell_type": "code",
   "execution_count": 4,
   "metadata": {},
   "outputs": [],
   "source": [
    "sku_data[\"sub_brand\"] = np.where((sku_data[\"sub_brand\"]==\"231\") & (sku_data[\"country\"]==\"Malaysia\")\n",
    "                                 , \"231M\"\n",
    "                                 , sku_data[\"sub_brand\"])"
   ]
  },
  {
   "cell_type": "code",
   "execution_count": 5,
   "metadata": {},
   "outputs": [],
   "source": [
    "sku_data[\"sub_brand\"] = np.where((sku_data[\"sub_brand\"]==\"ADQ\") & (sku_data[\"country\"]==\"Malaysia\")\n",
    "                                 , \"ADQM\"\n",
    "                                 , sku_data[\"sub_brand\"])"
   ]
  },
  {
   "cell_type": "code",
   "execution_count": 6,
   "metadata": {},
   "outputs": [
    {
     "data": {
      "text/plain": [
       "sub_brand      33\n",
       "sku           324\n",
       "customer      107\n",
       "country         4\n",
       "month          36\n",
       "actuals      5259\n",
       "dtype: int64"
      ]
     },
     "execution_count": 6,
     "metadata": {},
     "output_type": "execute_result"
    }
   ],
   "source": [
    "sku_data.nunique()"
   ]
  },
  {
   "cell_type": "code",
   "execution_count": 7,
   "metadata": {},
   "outputs": [
    {
     "data": {
      "text/plain": [
       "sub_brand    0\n",
       "sku          0\n",
       "customer     0\n",
       "country      0\n",
       "month        0\n",
       "actuals      0\n",
       "dtype: int64"
      ]
     },
     "execution_count": 7,
     "metadata": {},
     "output_type": "execute_result"
    }
   ],
   "source": [
    "sku_data.isnull().sum()"
   ]
  },
  {
   "cell_type": "markdown",
   "metadata": {},
   "source": [
    "## Aggregating it on `sub-brand, month` level"
   ]
  },
  {
   "cell_type": "code",
   "execution_count": 8,
   "metadata": {},
   "outputs": [
    {
     "data": {
      "text/plain": [
       "246           36\n",
       "AF3505F242    36\n",
       "231           36\n",
       "ADQM          36\n",
       "233           36\n",
       "231M          36\n",
       "AF3505FADB    36\n",
       "AF233340MR    36\n",
       "0GZ           36\n",
       "AE3           36\n",
       "AH1703L06Y    36\n",
       "AF3505D247    36\n",
       "ADQ           36\n",
       "AF3505F246    36\n",
       "0H1           36\n",
       "AF3505F245    36\n",
       "242           36\n",
       "AF3505E244    36\n",
       "232           36\n",
       "AF233330MP    36\n",
       "AF3505F0LE    36\n",
       "AH1703L070    35\n",
       "AIFG02M05C    33\n",
       "AIFG02M05E    33\n",
       "AIFG02M05D    33\n",
       "AF233340MS    27\n",
       "AF233330MO    25\n",
       "05Q           24\n",
       "AF3505F0GQ    23\n",
       "AF233340MQ    12\n",
       "05R            8\n",
       "AH1703L06Z     1\n",
       "AF3505F243     1\n",
       "Name: sub_brand, dtype: int64"
      ]
     },
     "execution_count": 8,
     "metadata": {},
     "output_type": "execute_result"
    }
   ],
   "source": [
    "sb_data = (sku_data\n",
    "           .groupby([\"sub_brand\", \"month\"])\n",
    "           .agg({\"country\": pd.unique\n",
    "                 , \"actuals\": sum}).sort_values(by=[\"sub_brand\", \"month\"], ascending=[True, True])\n",
    "           .reset_index())\n",
    "\n",
    "sb_data.sub_brand.value_counts()"
   ]
  },
  {
   "cell_type": "markdown",
   "metadata": {},
   "source": [
    "#### Upsampling"
   ]
  },
  {
   "cell_type": "code",
   "execution_count": 9,
   "metadata": {},
   "outputs": [
    {
     "name": "stdout",
     "output_type": "stream",
     "text": [
      "(1011, 4)\n"
     ]
    },
    {
     "data": {
      "text/plain": [
       "(1020, 7)"
      ]
     },
     "execution_count": 9,
     "metadata": {},
     "output_type": "execute_result"
    }
   ],
   "source": [
    "print(sb_data.shape)\n",
    "sb_data_ups = gsk_data_cleaning.perform_upsampling(sb_data, grouped_on=[\"sub_brand\"], dependent_col=\"actuals\", date_col=\"month\")\n",
    "\n",
    "sb_data_ups.drop([\"sequence\"], axis=1, inplace=True)\n",
    "\n",
    "sb_data_ups.shape"
   ]
  },
  {
   "cell_type": "code",
   "execution_count": 10,
   "metadata": {},
   "outputs": [],
   "source": [
    "sb_data_ups[\"country_code\"]=np.where(sb_data_ups[\"country\"]==\"Poland\", \"PL\", \"abc\")\n",
    "sb_data_ups[\"country_code\"]=np.where(sb_data_ups[\"country\"]==\"Germany\", \"DE\", sb_data_ups[\"country_code\"])\n",
    "sb_data_ups[\"country_code\"]=np.where(sb_data_ups[\"country\"]==\"Australia\", \"AU\", sb_data_ups[\"country_code\"])\n",
    "sb_data_ups[\"country_code\"]=np.where(sb_data_ups[\"country\"]==\"Malaysia\", \"MY\", sb_data_ups[\"country_code\"])"
   ]
  },
  {
   "cell_type": "code",
   "execution_count": 11,
   "metadata": {},
   "outputs": [
    {
     "data": {
      "text/html": [
       "<div>\n",
       "<style scoped>\n",
       "    .dataframe tbody tr th:only-of-type {\n",
       "        vertical-align: middle;\n",
       "    }\n",
       "\n",
       "    .dataframe tbody tr th {\n",
       "        vertical-align: top;\n",
       "    }\n",
       "\n",
       "    .dataframe thead th {\n",
       "        text-align: right;\n",
       "    }\n",
       "</style>\n",
       "<table border=\"1\" class=\"dataframe\">\n",
       "  <thead>\n",
       "    <tr style=\"text-align: right;\">\n",
       "      <th></th>\n",
       "      <th>sub_brand</th>\n",
       "      <th>month</th>\n",
       "      <th>country</th>\n",
       "      <th>actuals</th>\n",
       "      <th>upsample</th>\n",
       "      <th>month_min</th>\n",
       "      <th>month_max</th>\n",
       "      <th>country_code</th>\n",
       "    </tr>\n",
       "  </thead>\n",
       "  <tbody>\n",
       "    <tr>\n",
       "      <th>804</th>\n",
       "      <td>AF3505F242</td>\n",
       "      <td>2017-01-01</td>\n",
       "      <td>Germany</td>\n",
       "      <td>1315774</td>\n",
       "      <td>0</td>\n",
       "      <td>2016-01-01</td>\n",
       "      <td>2018-12-01</td>\n",
       "      <td>DE</td>\n",
       "    </tr>\n",
       "    <tr>\n",
       "      <th>288</th>\n",
       "      <td>242</td>\n",
       "      <td>2016-01-01</td>\n",
       "      <td>Australia</td>\n",
       "      <td>131208</td>\n",
       "      <td>0</td>\n",
       "      <td>2016-01-01</td>\n",
       "      <td>2018-12-01</td>\n",
       "      <td>AU</td>\n",
       "    </tr>\n",
       "    <tr>\n",
       "      <th>1141</th>\n",
       "      <td>AIFG02M05D</td>\n",
       "      <td>2018-02-01</td>\n",
       "      <td>Germany</td>\n",
       "      <td>249555</td>\n",
       "      <td>0</td>\n",
       "      <td>2016-04-01</td>\n",
       "      <td>2018-12-01</td>\n",
       "      <td>DE</td>\n",
       "    </tr>\n",
       "    <tr>\n",
       "      <th>897</th>\n",
       "      <td>AF3505F245</td>\n",
       "      <td>2018-10-01</td>\n",
       "      <td>Germany</td>\n",
       "      <td>10099</td>\n",
       "      <td>0</td>\n",
       "      <td>2016-01-01</td>\n",
       "      <td>2018-12-01</td>\n",
       "      <td>DE</td>\n",
       "    </tr>\n",
       "    <tr>\n",
       "      <th>1047</th>\n",
       "      <td>AH1703L070</td>\n",
       "      <td>2016-04-01</td>\n",
       "      <td>Poland</td>\n",
       "      <td>2140</td>\n",
       "      <td>0</td>\n",
       "      <td>2016-01-01</td>\n",
       "      <td>2018-12-01</td>\n",
       "      <td>PL</td>\n",
       "    </tr>\n",
       "    <tr>\n",
       "      <th>1140</th>\n",
       "      <td>AIFG02M05D</td>\n",
       "      <td>2018-01-01</td>\n",
       "      <td>Germany</td>\n",
       "      <td>162362</td>\n",
       "      <td>0</td>\n",
       "      <td>2016-04-01</td>\n",
       "      <td>2018-12-01</td>\n",
       "      <td>DE</td>\n",
       "    </tr>\n",
       "    <tr>\n",
       "      <th>313</th>\n",
       "      <td>242</td>\n",
       "      <td>2018-02-01</td>\n",
       "      <td>Australia</td>\n",
       "      <td>480528</td>\n",
       "      <td>0</td>\n",
       "      <td>2016-01-01</td>\n",
       "      <td>2018-12-01</td>\n",
       "      <td>AU</td>\n",
       "    </tr>\n",
       "    <tr>\n",
       "      <th>416</th>\n",
       "      <td>ADQM</td>\n",
       "      <td>2017-09-01</td>\n",
       "      <td>Malaysia</td>\n",
       "      <td>125929</td>\n",
       "      <td>0</td>\n",
       "      <td>2016-01-01</td>\n",
       "      <td>2018-12-01</td>\n",
       "      <td>MY</td>\n",
       "    </tr>\n",
       "    <tr>\n",
       "      <th>212</th>\n",
       "      <td>231M</td>\n",
       "      <td>2018-09-01</td>\n",
       "      <td>Malaysia</td>\n",
       "      <td>253265</td>\n",
       "      <td>0</td>\n",
       "      <td>2016-01-01</td>\n",
       "      <td>2018-12-01</td>\n",
       "      <td>MY</td>\n",
       "    </tr>\n",
       "    <tr>\n",
       "      <th>344</th>\n",
       "      <td>246</td>\n",
       "      <td>2017-09-01</td>\n",
       "      <td>Australia</td>\n",
       "      <td>118032</td>\n",
       "      <td>0</td>\n",
       "      <td>2016-01-01</td>\n",
       "      <td>2018-12-01</td>\n",
       "      <td>AU</td>\n",
       "    </tr>\n",
       "  </tbody>\n",
       "</table>\n",
       "</div>"
      ],
      "text/plain": [
       "       sub_brand      month    country  actuals  upsample  month_min  \\\n",
       "804   AF3505F242 2017-01-01    Germany  1315774         0 2016-01-01   \n",
       "288          242 2016-01-01  Australia   131208         0 2016-01-01   \n",
       "1141  AIFG02M05D 2018-02-01    Germany   249555         0 2016-04-01   \n",
       "897   AF3505F245 2018-10-01    Germany    10099         0 2016-01-01   \n",
       "1047  AH1703L070 2016-04-01     Poland     2140         0 2016-01-01   \n",
       "1140  AIFG02M05D 2018-01-01    Germany   162362         0 2016-04-01   \n",
       "313          242 2018-02-01  Australia   480528         0 2016-01-01   \n",
       "416         ADQM 2017-09-01   Malaysia   125929         0 2016-01-01   \n",
       "212         231M 2018-09-01   Malaysia   253265         0 2016-01-01   \n",
       "344          246 2017-09-01  Australia   118032         0 2016-01-01   \n",
       "\n",
       "      month_max country_code  \n",
       "804  2018-12-01           DE  \n",
       "288  2018-12-01           AU  \n",
       "1141 2018-12-01           DE  \n",
       "897  2018-12-01           DE  \n",
       "1047 2018-12-01           PL  \n",
       "1140 2018-12-01           DE  \n",
       "313  2018-12-01           AU  \n",
       "416  2018-12-01           MY  \n",
       "212  2018-12-01           MY  \n",
       "344  2018-12-01           AU  "
      ]
     },
     "execution_count": 11,
     "metadata": {},
     "output_type": "execute_result"
    }
   ],
   "source": [
    "sb_data_ups.sample(10)"
   ]
  },
  {
   "cell_type": "code",
   "execution_count": 12,
   "metadata": {},
   "outputs": [
    {
     "data": {
      "image/png": "[encoded data removed]",
      "text/plain": [
       "<Figure size 1080x1080 with 4 Axes>"
      ]
     },
     "metadata": {
      "needs_background": "light"
     },
     "output_type": "display_data"
    }
   ],
   "source": [
    "sb_data_ups[[\"month\", \"country\", \"actuals\"]].pivot_table(index=\"month\", columns=\"country\", values=\"actuals\").plot(subplots=True, sharex= True, figsize=(15, 15))\n",
    "plt.show()"
   ]
  },
  {
   "cell_type": "code",
   "execution_count": 13,
   "metadata": {},
   "outputs": [
    {
     "data": {
      "image/png": "[encoded data removed]",
      "text/plain": [
       "<Figure size 1080x2160 with 33 Axes>"
      ]
     },
     "metadata": {
      "needs_background": "light"
     },
     "output_type": "display_data"
    }
   ],
   "source": [
    "sb_data_ups[[\"month\", \"sub_brand\", \"actuals\"]].pivot_table(index=\"month\", columns=\"sub_brand\", values=\"actuals\").plot(subplots=True, sharex= True, figsize=(15, 30))\n",
    "plt.show()"
   ]
  },
  {
   "cell_type": "code",
   "execution_count": 14,
   "metadata": {},
   "outputs": [
    {
     "data": {
      "text/html": [
       "<div>\n",
       "<style scoped>\n",
       "    .dataframe tbody tr th:only-of-type {\n",
       "        vertical-align: middle;\n",
       "    }\n",
       "\n",
       "    .dataframe tbody tr th {\n",
       "        vertical-align: top;\n",
       "    }\n",
       "\n",
       "    .dataframe thead th {\n",
       "        text-align: right;\n",
       "    }\n",
       "</style>\n",
       "<table border=\"1\" class=\"dataframe\">\n",
       "  <thead>\n",
       "    <tr style=\"text-align: right;\">\n",
       "      <th></th>\n",
       "      <th>sub_brand</th>\n",
       "      <th>month</th>\n",
       "      <th>country</th>\n",
       "      <th>actuals</th>\n",
       "      <th>upsample</th>\n",
       "      <th>month_min</th>\n",
       "      <th>month_max</th>\n",
       "      <th>country_code</th>\n",
       "      <th>naive</th>\n",
       "      <th>ma_2</th>\n",
       "      <th>ma_3</th>\n",
       "      <th>ma_4</th>\n",
       "      <th>ma_5</th>\n",
       "    </tr>\n",
       "  </thead>\n",
       "  <tbody>\n",
       "    <tr>\n",
       "      <th>9</th>\n",
       "      <td>05Q</td>\n",
       "      <td>2016-10-01</td>\n",
       "      <td>Malaysia</td>\n",
       "      <td>3412</td>\n",
       "      <td>0</td>\n",
       "      <td>2016-10-01</td>\n",
       "      <td>2018-12-01</td>\n",
       "      <td>MY</td>\n",
       "      <td>0</td>\n",
       "      <td>0</td>\n",
       "      <td>0</td>\n",
       "      <td>0</td>\n",
       "      <td>0</td>\n",
       "    </tr>\n",
       "    <tr>\n",
       "      <th>10</th>\n",
       "      <td>05Q</td>\n",
       "      <td>2016-11-01</td>\n",
       "      <td>Malaysia</td>\n",
       "      <td>922</td>\n",
       "      <td>0</td>\n",
       "      <td>2016-10-01</td>\n",
       "      <td>2018-12-01</td>\n",
       "      <td>MY</td>\n",
       "      <td>0</td>\n",
       "      <td>0</td>\n",
       "      <td>0</td>\n",
       "      <td>0</td>\n",
       "      <td>0</td>\n",
       "    </tr>\n",
       "    <tr>\n",
       "      <th>11</th>\n",
       "      <td>05Q</td>\n",
       "      <td>2016-12-01</td>\n",
       "      <td>Malaysia</td>\n",
       "      <td>2</td>\n",
       "      <td>0</td>\n",
       "      <td>2016-10-01</td>\n",
       "      <td>2018-12-01</td>\n",
       "      <td>MY</td>\n",
       "      <td>0</td>\n",
       "      <td>0</td>\n",
       "      <td>0</td>\n",
       "      <td>0</td>\n",
       "      <td>0</td>\n",
       "    </tr>\n",
       "    <tr>\n",
       "      <th>12</th>\n",
       "      <td>05Q</td>\n",
       "      <td>2017-01-01</td>\n",
       "      <td>Malaysia</td>\n",
       "      <td>1</td>\n",
       "      <td>0</td>\n",
       "      <td>2016-10-01</td>\n",
       "      <td>2018-12-01</td>\n",
       "      <td>MY</td>\n",
       "      <td>3412</td>\n",
       "      <td>1706</td>\n",
       "      <td>1137</td>\n",
       "      <td>853</td>\n",
       "      <td>682</td>\n",
       "    </tr>\n",
       "    <tr>\n",
       "      <th>13</th>\n",
       "      <td>05Q</td>\n",
       "      <td>2017-02-01</td>\n",
       "      <td>Malaysia</td>\n",
       "      <td>0</td>\n",
       "      <td>1</td>\n",
       "      <td>2016-10-01</td>\n",
       "      <td>2018-12-01</td>\n",
       "      <td>MY</td>\n",
       "      <td>922</td>\n",
       "      <td>2167</td>\n",
       "      <td>1445</td>\n",
       "      <td>1084</td>\n",
       "      <td>867</td>\n",
       "    </tr>\n",
       "    <tr>\n",
       "      <th>...</th>\n",
       "      <td>...</td>\n",
       "      <td>...</td>\n",
       "      <td>...</td>\n",
       "      <td>...</td>\n",
       "      <td>...</td>\n",
       "      <td>...</td>\n",
       "      <td>...</td>\n",
       "      <td>...</td>\n",
       "      <td>...</td>\n",
       "      <td>...</td>\n",
       "      <td>...</td>\n",
       "      <td>...</td>\n",
       "      <td>...</td>\n",
       "    </tr>\n",
       "    <tr>\n",
       "      <th>1183</th>\n",
       "      <td>AIFG02M05E</td>\n",
       "      <td>2018-08-01</td>\n",
       "      <td>Germany</td>\n",
       "      <td>751419</td>\n",
       "      <td>0</td>\n",
       "      <td>2016-04-01</td>\n",
       "      <td>2018-12-01</td>\n",
       "      <td>DE</td>\n",
       "      <td>402117</td>\n",
       "      <td>342716</td>\n",
       "      <td>425798</td>\n",
       "      <td>435358</td>\n",
       "      <td>408081</td>\n",
       "    </tr>\n",
       "    <tr>\n",
       "      <th>1184</th>\n",
       "      <td>AIFG02M05E</td>\n",
       "      <td>2018-09-01</td>\n",
       "      <td>Germany</td>\n",
       "      <td>139306</td>\n",
       "      <td>0</td>\n",
       "      <td>2016-04-01</td>\n",
       "      <td>2018-12-01</td>\n",
       "      <td>DE</td>\n",
       "      <td>884207</td>\n",
       "      <td>643162</td>\n",
       "      <td>523213</td>\n",
       "      <td>540400</td>\n",
       "      <td>525127</td>\n",
       "    </tr>\n",
       "    <tr>\n",
       "      <th>1185</th>\n",
       "      <td>AIFG02M05E</td>\n",
       "      <td>2018-10-01</td>\n",
       "      <td>Germany</td>\n",
       "      <td>83021</td>\n",
       "      <td>0</td>\n",
       "      <td>2016-04-01</td>\n",
       "      <td>2018-12-01</td>\n",
       "      <td>DE</td>\n",
       "      <td>514505</td>\n",
       "      <td>699356</td>\n",
       "      <td>600276</td>\n",
       "      <td>521036</td>\n",
       "      <td>535221</td>\n",
       "    </tr>\n",
       "    <tr>\n",
       "      <th>1186</th>\n",
       "      <td>AIFG02M05E</td>\n",
       "      <td>2018-11-01</td>\n",
       "      <td>Germany</td>\n",
       "      <td>70246</td>\n",
       "      <td>0</td>\n",
       "      <td>2016-04-01</td>\n",
       "      <td>2018-12-01</td>\n",
       "      <td>DE</td>\n",
       "      <td>751419</td>\n",
       "      <td>632962</td>\n",
       "      <td>716710</td>\n",
       "      <td>638062</td>\n",
       "      <td>567112</td>\n",
       "    </tr>\n",
       "    <tr>\n",
       "      <th>1187</th>\n",
       "      <td>AIFG02M05E</td>\n",
       "      <td>2018-12-01</td>\n",
       "      <td>Germany</td>\n",
       "      <td>35954</td>\n",
       "      <td>0</td>\n",
       "      <td>2016-04-01</td>\n",
       "      <td>2018-12-01</td>\n",
       "      <td>DE</td>\n",
       "      <td>139306</td>\n",
       "      <td>445362</td>\n",
       "      <td>468410</td>\n",
       "      <td>572359</td>\n",
       "      <td>538311</td>\n",
       "    </tr>\n",
       "  </tbody>\n",
       "</table>\n",
       "<p>1020 rows × 13 columns</p>\n",
       "</div>"
      ],
      "text/plain": [
       "       sub_brand      month   country  actuals  upsample  month_min  \\\n",
       "9            05Q 2016-10-01  Malaysia     3412         0 2016-10-01   \n",
       "10           05Q 2016-11-01  Malaysia      922         0 2016-10-01   \n",
       "11           05Q 2016-12-01  Malaysia        2         0 2016-10-01   \n",
       "12           05Q 2017-01-01  Malaysia        1         0 2016-10-01   \n",
       "13           05Q 2017-02-01  Malaysia        0         1 2016-10-01   \n",
       "...          ...        ...       ...      ...       ...        ...   \n",
       "1183  AIFG02M05E 2018-08-01   Germany   751419         0 2016-04-01   \n",
       "1184  AIFG02M05E 2018-09-01   Germany   139306         0 2016-04-01   \n",
       "1185  AIFG02M05E 2018-10-01   Germany    83021         0 2016-04-01   \n",
       "1186  AIFG02M05E 2018-11-01   Germany    70246         0 2016-04-01   \n",
       "1187  AIFG02M05E 2018-12-01   Germany    35954         0 2016-04-01   \n",
       "\n",
       "      month_max country_code  naive   ma_2   ma_3   ma_4   ma_5  \n",
       "9    2018-12-01           MY      0      0      0      0      0  \n",
       "10   2018-12-01           MY      0      0      0      0      0  \n",
       "11   2018-12-01           MY      0      0      0      0      0  \n",
       "12   2018-12-01           MY   3412   1706   1137    853    682  \n",
       "13   2018-12-01           MY    922   2167   1445   1084    867  \n",
       "...         ...          ...    ...    ...    ...    ...    ...  \n",
       "1183 2018-12-01           DE 402117 342716 425798 435358 408081  \n",
       "1184 2018-12-01           DE 884207 643162 523213 540400 525127  \n",
       "1185 2018-12-01           DE 514505 699356 600276 521036 535221  \n",
       "1186 2018-12-01           DE 751419 632962 716710 638062 567112  \n",
       "1187 2018-12-01           DE 139306 445362 468410 572359 538311  \n",
       "\n",
       "[1020 rows x 13 columns]"
      ]
     },
     "execution_count": 14,
     "metadata": {},
     "output_type": "execute_result"
    }
   ],
   "source": [
    "sb_data_ups = gsk_feature_eng.create_lag_variables(sb_data_ups, date_column=\"month\"\n",
    "                                                   , grouped_on = \"sub_brand\"\n",
    "                                                   , shifting_var = \"actuals\"\n",
    "                                                   , lag_vars_range = [3, 4, 5, 6, 7])\n",
    "\n",
    "sb_data_ups = gsk_feature_eng.create_moving_avg(sb_data_ups, ma_vars = [1,2,3,4,5])\n",
    "sb_data_ups.drop([\"lag_3\", \"lag_4\", \"lag_5\", \"lag_6\", \"lag_7\"], axis=1, inplace=True)\n",
    "sb_data_ups"
   ]
  },
  {
   "cell_type": "markdown",
   "metadata": {},
   "source": [
    "## Function related to Univariate Modeling"
   ]
  },
  {
   "cell_type": "code",
   "execution_count": 15,
   "metadata": {},
   "outputs": [],
   "source": [
    "def start_univariate_modeling(dataset, forecast_month, date_col, lag_of=2, grouped_on=\"sequence\", dependent_var=\"actual\"):\n",
    "    \n",
    "    from functools import reduce\n",
    "\n",
    "    results=pd.DataFrame()\n",
    "\n",
    "    print(\"Running Arima...\")\n",
    "    arima_results = gsk_modeling.perform_autoarima(dataset=dataset, lag_of=lag_of, forecast_month=forecast_month, date_col=date_col\n",
    "                                                   , grouped_on=grouped_on, dependent_var=dependent_var)\n",
    "    print(\"Running ETS...\")\n",
    "    ets_results = gsk_modeling.perform_ets(dataset=dataset, lag_of=lag_of, forecast_month=forecast_month, date_col=date_col\n",
    "                                           , grouped_on=grouped_on, dependent_var=dependent_var).drop([dependent_var], axis=1)\n",
    "    print(\"Running Seasonal Naive...\")\n",
    "    sktime_naive_results = gsk_modeling.perform_sktime_naive(dataset=dataset, lag_of=lag_of, forecast_month=forecast_month, date_col=date_col\n",
    "                                                             , grouped_on=grouped_on, dependent_var=dependent_var).drop([dependent_var], axis=1)\n",
    "    print(\"Running Reduction...\")\n",
    "    red_results = gsk_modeling.perform_sktime_reduction(dataset=dataset, lag_of=lag_of, forecast_month=forecast_month, date_col=date_col\n",
    "                                                        , grouped_on=grouped_on, dependent_var=dependent_var).drop([dependent_var], axis=1)\n",
    "    print(\"Running Prophet...\")\n",
    "    prophet_results = gsk_modeling.create_prophet_forecast(dataset=dataset, lag_of=lag_of, forecast_month=forecast_month, date_col=date_col\n",
    "                                                           , grouped_on=grouped_on, dependent_var=dependent_var)\n",
    "    \n",
    "    dataframes = [arima_results\n",
    "                  , ets_results\n",
    "                  , sktime_naive_results\n",
    "                  , red_results\n",
    "                  , prophet_results]\n",
    "    \n",
    "    results = reduce(lambda left, right: pd.merge(left, right, on = [grouped_on, date_col], how='inner'), dataframes)\n",
    "    \n",
    "    return results"
   ]
  },
  {
   "cell_type": "markdown",
   "metadata": {},
   "source": [
    "-----\n",
    "# Forecasting for October 2018\n",
    "\n",
    "> - Training Month : Till April 2018    \n",
    "> - Validation Month: July 2018    \n",
    "> - Prediction Month: October 2018"
   ]
  },
  {
   "cell_type": "code",
   "execution_count": 16,
   "metadata": {},
   "outputs": [
    {
     "data": {
      "text/plain": [
       "((863, 13), (956, 13), 31, 31)"
      ]
     },
     "execution_count": 16,
     "metadata": {},
     "output_type": "execute_result"
    }
   ],
   "source": [
    "training_validation = sb_data_ups[sb_data_ups[\"month\"]<=\"2018-07-01\"]\n",
    "training_prediction = sb_data_ups[sb_data_ups[\"month\"]<=\"2018-10-01\"]\n",
    "\n",
    "training_validation.shape, training_prediction.shape, training_prediction.sub_brand.nunique(), training_validation.sub_brand.nunique()"
   ]
  },
  {
   "cell_type": "markdown",
   "metadata": {},
   "source": [
    "### Modeling on training data"
   ]
  },
  {
   "cell_type": "code",
   "execution_count": 17,
   "metadata": {},
   "outputs": [
    {
     "name": "stdout",
     "output_type": "stream",
     "text": [
      "Running Arima...\n"
     ]
    },
    {
     "name": "stderr",
     "output_type": "stream",
     "text": [
      "100%|█████████████████████████████████████████████████████████████████████████████████████████████████████████████████████████████████████████████████████████████████████████████| 31/31 [00:03<00:00,  7.82it/s]\n",
      " 23%|███████████████████████████████████████▎                                                                                                                                      | 7/31 [00:00<00:00, 52.44it/s]"
     ]
    },
    {
     "name": "stdout",
     "output_type": "stream",
     "text": [
      "Running ETS...\n"
     ]
    },
    {
     "name": "stderr",
     "output_type": "stream",
     "text": [
      "100%|█████████████████████████████████████████████████████████████████████████████████████████████████████████████████████████████████████████████████████████████████████████████| 31/31 [00:00<00:00, 53.77it/s]\n",
      "100%|████████████████████████████████████████████████████████████████████████████████████████████████████████████████████████████████████████████████████████████████████████████| 31/31 [00:00<00:00, 330.96it/s]\n"
     ]
    },
    {
     "name": "stdout",
     "output_type": "stream",
     "text": [
      "Running Seasonal Naive...\n",
      "Running Reduction...\n"
     ]
    },
    {
     "name": "stderr",
     "output_type": "stream",
     "text": [
      "100%|████████████████████████████████████████████████████████████████████████████████████████████████████████████████████████████████████████████████████████████████████████████| 31/31 [00:00<00:00, 121.63it/s]\n"
     ]
    },
    {
     "name": "stdout",
     "output_type": "stream",
     "text": [
      "Running Prophet...\n"
     ]
    },
    {
     "name": "stderr",
     "output_type": "stream",
     "text": [
      "100%|█████████████████████████████████████████████████████████████████████████████████████████████████████████████████████████████████████████████████████████████████████████████| 30/30 [01:10<00:00,  2.34s/it]\n"
     ]
    },
    {
     "data": {
      "text/plain": [
       "(30, 13)"
      ]
     },
     "execution_count": 17,
     "metadata": {},
     "output_type": "execute_result"
    }
   ],
   "source": [
    "july_univ_results = start_univariate_modeling(dataset = training_validation\n",
    "                                              , forecast_month = \"2018-07-01\"\n",
    "                                              , date_col = \"month\"\n",
    "                                              , lag_of=2\n",
    "                                              , grouped_on=\"sub_brand\"\n",
    "                                              , dependent_var=\"actuals\")\n",
    "july_univ_results.shape"
   ]
  },
  {
   "cell_type": "code",
   "execution_count": 18,
   "metadata": {},
   "outputs": [
    {
     "data": {
      "text/html": [
       "<div>\n",
       "<style scoped>\n",
       "    .dataframe tbody tr th:only-of-type {\n",
       "        vertical-align: middle;\n",
       "    }\n",
       "\n",
       "    .dataframe tbody tr th {\n",
       "        vertical-align: top;\n",
       "    }\n",
       "\n",
       "    .dataframe thead th {\n",
       "        text-align: right;\n",
       "    }\n",
       "</style>\n",
       "<table border=\"1\" class=\"dataframe\">\n",
       "  <thead>\n",
       "    <tr style=\"text-align: right;\">\n",
       "      <th></th>\n",
       "      <th>sub_brand</th>\n",
       "      <th>month</th>\n",
       "      <th>actuals</th>\n",
       "      <th>arima_forecast</th>\n",
       "      <th>arima_status</th>\n",
       "      <th>ets_forecast</th>\n",
       "      <th>ets_status</th>\n",
       "      <th>sn_forecast</th>\n",
       "      <th>sn_status</th>\n",
       "      <th>red_forecast</th>\n",
       "      <th>red_status</th>\n",
       "      <th>prophet_status</th>\n",
       "      <th>prophet_forecast</th>\n",
       "    </tr>\n",
       "  </thead>\n",
       "  <tbody>\n",
       "    <tr>\n",
       "      <th>0</th>\n",
       "      <td>05Q</td>\n",
       "      <td>2018-07-01</td>\n",
       "      <td>5173</td>\n",
       "      <td>8202</td>\n",
       "      <td>0</td>\n",
       "      <td>8203</td>\n",
       "      <td>0</td>\n",
       "      <td>8447</td>\n",
       "      <td>0</td>\n",
       "      <td>5245</td>\n",
       "      <td>0</td>\n",
       "      <td>0</td>\n",
       "      <td>9000</td>\n",
       "    </tr>\n",
       "    <tr>\n",
       "      <th>1</th>\n",
       "      <td>0GZ</td>\n",
       "      <td>2018-07-01</td>\n",
       "      <td>43503</td>\n",
       "      <td>17640</td>\n",
       "      <td>0</td>\n",
       "      <td>26347</td>\n",
       "      <td>0</td>\n",
       "      <td>18416</td>\n",
       "      <td>0</td>\n",
       "      <td>25706</td>\n",
       "      <td>0</td>\n",
       "      <td>0</td>\n",
       "      <td>11338</td>\n",
       "    </tr>\n",
       "    <tr>\n",
       "      <th>2</th>\n",
       "      <td>0H1</td>\n",
       "      <td>2018-07-01</td>\n",
       "      <td>59650</td>\n",
       "      <td>89573</td>\n",
       "      <td>0</td>\n",
       "      <td>122917</td>\n",
       "      <td>0</td>\n",
       "      <td>48208</td>\n",
       "      <td>0</td>\n",
       "      <td>54691</td>\n",
       "      <td>0</td>\n",
       "      <td>0</td>\n",
       "      <td>47176</td>\n",
       "    </tr>\n",
       "    <tr>\n",
       "      <th>3</th>\n",
       "      <td>231</td>\n",
       "      <td>2018-07-01</td>\n",
       "      <td>270540</td>\n",
       "      <td>305297</td>\n",
       "      <td>0</td>\n",
       "      <td>288004</td>\n",
       "      <td>0</td>\n",
       "      <td>326514</td>\n",
       "      <td>0</td>\n",
       "      <td>299304</td>\n",
       "      <td>0</td>\n",
       "      <td>0</td>\n",
       "      <td>300323</td>\n",
       "    </tr>\n",
       "    <tr>\n",
       "      <th>4</th>\n",
       "      <td>231M</td>\n",
       "      <td>2018-07-01</td>\n",
       "      <td>135995</td>\n",
       "      <td>161836</td>\n",
       "      <td>0</td>\n",
       "      <td>126574</td>\n",
       "      <td>0</td>\n",
       "      <td>117061</td>\n",
       "      <td>0</td>\n",
       "      <td>280294</td>\n",
       "      <td>0</td>\n",
       "      <td>0</td>\n",
       "      <td>191464</td>\n",
       "    </tr>\n",
       "  </tbody>\n",
       "</table>\n",
       "</div>"
      ],
      "text/plain": [
       "  sub_brand      month  actuals  arima_forecast  arima_status  ets_forecast  \\\n",
       "0       05Q 2018-07-01     5173            8202             0          8203   \n",
       "1       0GZ 2018-07-01    43503           17640             0         26347   \n",
       "2       0H1 2018-07-01    59650           89573             0        122917   \n",
       "3       231 2018-07-01   270540          305297             0        288004   \n",
       "4      231M 2018-07-01   135995          161836             0        126574   \n",
       "\n",
       "   ets_status  sn_forecast  sn_status  red_forecast  red_status  \\\n",
       "0           0         8447          0          5245           0   \n",
       "1           0        18416          0         25706           0   \n",
       "2           0        48208          0         54691           0   \n",
       "3           0       326514          0        299304           0   \n",
       "4           0       117061          0        280294           0   \n",
       "\n",
       "   prophet_status  prophet_forecast  \n",
       "0               0              9000  \n",
       "1               0             11338  \n",
       "2               0             47176  \n",
       "3               0            300323  \n",
       "4               0            191464  "
      ]
     },
     "execution_count": 18,
     "metadata": {},
     "output_type": "execute_result"
    }
   ],
   "source": [
    "july_univ_results.head()"
   ]
  },
  {
   "cell_type": "code",
   "execution_count": 19,
   "metadata": {},
   "outputs": [
    {
     "data": {
      "text/html": [
       "<div>\n",
       "<style scoped>\n",
       "    .dataframe tbody tr th:only-of-type {\n",
       "        vertical-align: middle;\n",
       "    }\n",
       "\n",
       "    .dataframe tbody tr th {\n",
       "        vertical-align: top;\n",
       "    }\n",
       "\n",
       "    .dataframe thead th {\n",
       "        text-align: right;\n",
       "    }\n",
       "</style>\n",
       "<table border=\"1\" class=\"dataframe\">\n",
       "  <thead>\n",
       "    <tr style=\"text-align: right;\">\n",
       "      <th></th>\n",
       "      <th>sub_brand</th>\n",
       "      <th>month</th>\n",
       "      <th>country</th>\n",
       "      <th>actuals</th>\n",
       "      <th>upsample</th>\n",
       "      <th>month_min</th>\n",
       "      <th>month_max</th>\n",
       "      <th>country_code</th>\n",
       "      <th>naive</th>\n",
       "      <th>ma_2</th>\n",
       "      <th>ma_3</th>\n",
       "      <th>ma_4</th>\n",
       "      <th>ma_5</th>\n",
       "    </tr>\n",
       "  </thead>\n",
       "  <tbody>\n",
       "    <tr>\n",
       "      <th>9</th>\n",
       "      <td>05Q</td>\n",
       "      <td>2016-10-01</td>\n",
       "      <td>Malaysia</td>\n",
       "      <td>3412</td>\n",
       "      <td>0</td>\n",
       "      <td>2016-10-01</td>\n",
       "      <td>2018-12-01</td>\n",
       "      <td>MY</td>\n",
       "      <td>0</td>\n",
       "      <td>0</td>\n",
       "      <td>0</td>\n",
       "      <td>0</td>\n",
       "      <td>0</td>\n",
       "    </tr>\n",
       "    <tr>\n",
       "      <th>10</th>\n",
       "      <td>05Q</td>\n",
       "      <td>2016-11-01</td>\n",
       "      <td>Malaysia</td>\n",
       "      <td>922</td>\n",
       "      <td>0</td>\n",
       "      <td>2016-10-01</td>\n",
       "      <td>2018-12-01</td>\n",
       "      <td>MY</td>\n",
       "      <td>0</td>\n",
       "      <td>0</td>\n",
       "      <td>0</td>\n",
       "      <td>0</td>\n",
       "      <td>0</td>\n",
       "    </tr>\n",
       "    <tr>\n",
       "      <th>11</th>\n",
       "      <td>05Q</td>\n",
       "      <td>2016-12-01</td>\n",
       "      <td>Malaysia</td>\n",
       "      <td>2</td>\n",
       "      <td>0</td>\n",
       "      <td>2016-10-01</td>\n",
       "      <td>2018-12-01</td>\n",
       "      <td>MY</td>\n",
       "      <td>0</td>\n",
       "      <td>0</td>\n",
       "      <td>0</td>\n",
       "      <td>0</td>\n",
       "      <td>0</td>\n",
       "    </tr>\n",
       "    <tr>\n",
       "      <th>12</th>\n",
       "      <td>05Q</td>\n",
       "      <td>2017-01-01</td>\n",
       "      <td>Malaysia</td>\n",
       "      <td>1</td>\n",
       "      <td>0</td>\n",
       "      <td>2016-10-01</td>\n",
       "      <td>2018-12-01</td>\n",
       "      <td>MY</td>\n",
       "      <td>3412</td>\n",
       "      <td>1706</td>\n",
       "      <td>1137</td>\n",
       "      <td>853</td>\n",
       "      <td>682</td>\n",
       "    </tr>\n",
       "    <tr>\n",
       "      <th>13</th>\n",
       "      <td>05Q</td>\n",
       "      <td>2017-02-01</td>\n",
       "      <td>Malaysia</td>\n",
       "      <td>0</td>\n",
       "      <td>1</td>\n",
       "      <td>2016-10-01</td>\n",
       "      <td>2018-12-01</td>\n",
       "      <td>MY</td>\n",
       "      <td>922</td>\n",
       "      <td>2167</td>\n",
       "      <td>1445</td>\n",
       "      <td>1084</td>\n",
       "      <td>867</td>\n",
       "    </tr>\n",
       "  </tbody>\n",
       "</table>\n",
       "</div>"
      ],
      "text/plain": [
       "   sub_brand      month   country  actuals  upsample  month_min  month_max  \\\n",
       "9        05Q 2016-10-01  Malaysia     3412         0 2016-10-01 2018-12-01   \n",
       "10       05Q 2016-11-01  Malaysia      922         0 2016-10-01 2018-12-01   \n",
       "11       05Q 2016-12-01  Malaysia        2         0 2016-10-01 2018-12-01   \n",
       "12       05Q 2017-01-01  Malaysia        1         0 2016-10-01 2018-12-01   \n",
       "13       05Q 2017-02-01  Malaysia        0         1 2016-10-01 2018-12-01   \n",
       "\n",
       "   country_code  naive  ma_2  ma_3  ma_4  ma_5  \n",
       "9            MY      0     0     0     0     0  \n",
       "10           MY      0     0     0     0     0  \n",
       "11           MY      0     0     0     0     0  \n",
       "12           MY   3412  1706  1137   853   682  \n",
       "13           MY    922  2167  1445  1084   867  "
      ]
     },
     "execution_count": 19,
     "metadata": {},
     "output_type": "execute_result"
    }
   ],
   "source": [
    "training_validation.head()"
   ]
  },
  {
   "cell_type": "code",
   "execution_count": 20,
   "metadata": {},
   "outputs": [
    {
     "name": "stdout",
     "output_type": "stream",
     "text": [
      "(30, 13)\n"
     ]
    },
    {
     "data": {
      "text/plain": [
       "(30, 23)"
      ]
     },
     "execution_count": 20,
     "metadata": {},
     "output_type": "execute_result"
    }
   ],
   "source": [
    "print(july_univ_results.shape)\n",
    "july_univ_af = pd.merge(left = july_univ_results, right = training_validation, on = [\"sub_brand\", \"month\", \"actuals\"], how=\"inner\")\n",
    "july_univ_af.shape"
   ]
  },
  {
   "cell_type": "markdown",
   "metadata": {},
   "source": [
    "### Checking the results on validation data"
   ]
  },
  {
   "cell_type": "code",
   "execution_count": 21,
   "metadata": {},
   "outputs": [
    {
     "name": "stderr",
     "output_type": "stream",
     "text": [
      "100%|█████████████████████████████████████████████████████████████████████████████████████████████████████████████████████████████████████████████████████████████████████████████| 30/30 [00:00<00:00, 81.37it/s]\n"
     ]
    },
    {
     "data": {
      "text/plain": [
       "(30, 13)"
      ]
     },
     "execution_count": 21,
     "metadata": {},
     "output_type": "execute_result"
    }
   ],
   "source": [
    "# validation_results_mature = validation_results[validation_results[\"mature\"]==1]\n",
    "list_of_forecast = ['arima_forecast', 'ets_forecast', 'sn_forecast', 'red_forecast', \"prophet_forecast\", \"naive\", \"ma_2\", \"ma_3\", \"ma_4\", \"ma_5\"]\n",
    "error_list=[]\n",
    "\n",
    "for sequence in tqdm(july_univ_af.sub_brand.unique()):\n",
    "    temp_df = july_univ_af[july_univ_af[\"sub_brand\"]==sequence]\n",
    "    for forecast in list_of_forecast:\n",
    "        err = gsk_error_analysis.calc_accuracy(temp_df, \"actuals\", forecast)\n",
    "        error_list.append([sequence, forecast, err])\n",
    "\n",
    "error_df = pd.DataFrame(error_list, columns=[\"sub_brand\", \"Algorithm\", \"Accuracy\"])\n",
    "error_df = error_df.pivot_table(values=\"Accuracy\", index=\"sub_brand\", columns=\"Algorithm\")\n",
    "error_df[\"best_fit_algo\"] = error_df.idxmax(axis=1)\n",
    "error_df[\"best_fit\"] = error_df.max(axis=1)\n",
    "error_df.reset_index(inplace=True)\n",
    "error_df.shape"
   ]
  },
  {
   "cell_type": "code",
   "execution_count": 22,
   "metadata": {},
   "outputs": [],
   "source": [
    "forecast_actuals_list=[]\n",
    "for sku in error_df.sub_brand.unique():\n",
    "    tmp_df = error_df[error_df[\"sub_brand\"]==sku]\n",
    "    algo_name = tmp_df[\"best_fit_algo\"].values[0]\n",
    "    actuals = july_univ_af[july_univ_af[\"sub_brand\"]==sku][\"actuals\"].values[0]\n",
    "    forecast = july_univ_af[july_univ_af[\"sub_brand\"]==sku][algo_name].values[0]\n",
    "    forecast_actuals_list.append([sku, algo_name, actuals, forecast])\n",
    "    \n",
    "forecast_actuals_df = pd.DataFrame(forecast_actuals_list, columns=[\"sub_brand\", \"Algorithm\", \"Actuals\", \"Forecast\"])"
   ]
  },
  {
   "cell_type": "code",
   "execution_count": 23,
   "metadata": {},
   "outputs": [
    {
     "data": {
      "text/plain": [
       "92.84834992490016"
      ]
     },
     "execution_count": 23,
     "metadata": {},
     "output_type": "execute_result"
    }
   ],
   "source": [
    "gsk_error_analysis.calc_accuracy(forecast_actuals_df, \"Actuals\", \"Forecast\")"
   ]
  },
  {
   "cell_type": "code",
   "execution_count": 24,
   "metadata": {},
   "outputs": [
    {
     "data": {
      "text/plain": [
       "red_forecast        6\n",
       "ma_2                5\n",
       "naive               5\n",
       "ma_3                4\n",
       "arima_forecast      3\n",
       "ma_4                2\n",
       "sn_forecast         2\n",
       "ets_forecast        2\n",
       "prophet_forecast    1\n",
       "Name: Algorithm, dtype: int64"
      ]
     },
     "execution_count": 24,
     "metadata": {},
     "output_type": "execute_result"
    }
   ],
   "source": [
    "forecast_actuals_df.Algorithm.value_counts()"
   ]
  },
  {
   "cell_type": "markdown",
   "metadata": {},
   "source": [
    "### Using the same algos for same `sub_model`"
   ]
  },
  {
   "cell_type": "code",
   "execution_count": 25,
   "metadata": {},
   "outputs": [
    {
     "name": "stdout",
     "output_type": "stream",
     "text": [
      "(956, 13) (30, 4)\n",
      "(956, 14)\n"
     ]
    },
    {
     "data": {
      "text/html": [
       "<div>\n",
       "<style scoped>\n",
       "    .dataframe tbody tr th:only-of-type {\n",
       "        vertical-align: middle;\n",
       "    }\n",
       "\n",
       "    .dataframe tbody tr th {\n",
       "        vertical-align: top;\n",
       "    }\n",
       "\n",
       "    .dataframe thead th {\n",
       "        text-align: right;\n",
       "    }\n",
       "</style>\n",
       "<table border=\"1\" class=\"dataframe\">\n",
       "  <thead>\n",
       "    <tr style=\"text-align: right;\">\n",
       "      <th></th>\n",
       "      <th>sub_brand</th>\n",
       "      <th>month</th>\n",
       "      <th>country</th>\n",
       "      <th>actuals</th>\n",
       "      <th>upsample</th>\n",
       "      <th>month_min</th>\n",
       "      <th>month_max</th>\n",
       "      <th>country_code</th>\n",
       "      <th>naive</th>\n",
       "      <th>ma_2</th>\n",
       "      <th>ma_3</th>\n",
       "      <th>ma_4</th>\n",
       "      <th>ma_5</th>\n",
       "      <th>Algorithm</th>\n",
       "    </tr>\n",
       "  </thead>\n",
       "  <tbody>\n",
       "    <tr>\n",
       "      <th>892</th>\n",
       "      <td>AIFG02M05C</td>\n",
       "      <td>2018-09-01</td>\n",
       "      <td>Germany</td>\n",
       "      <td>54561</td>\n",
       "      <td>0</td>\n",
       "      <td>2016-04-01</td>\n",
       "      <td>2018-12-01</td>\n",
       "      <td>DE</td>\n",
       "      <td>171699</td>\n",
       "      <td>127690</td>\n",
       "      <td>149667</td>\n",
       "      <td>163280</td>\n",
       "      <td>187847</td>\n",
       "      <td>arima_forecast</td>\n",
       "    </tr>\n",
       "    <tr>\n",
       "      <th>871</th>\n",
       "      <td>AIFG02M05C</td>\n",
       "      <td>2016-12-01</td>\n",
       "      <td>Germany</td>\n",
       "      <td>135181</td>\n",
       "      <td>0</td>\n",
       "      <td>2016-04-01</td>\n",
       "      <td>2018-12-01</td>\n",
       "      <td>DE</td>\n",
       "      <td>136008</td>\n",
       "      <td>138986</td>\n",
       "      <td>152356</td>\n",
       "      <td>149230</td>\n",
       "      <td>139351</td>\n",
       "      <td>arima_forecast</td>\n",
       "    </tr>\n",
       "    <tr>\n",
       "      <th>107</th>\n",
       "      <td>231</td>\n",
       "      <td>2016-09-01</td>\n",
       "      <td>Australia</td>\n",
       "      <td>401634</td>\n",
       "      <td>0</td>\n",
       "      <td>2016-01-01</td>\n",
       "      <td>2018-12-01</td>\n",
       "      <td>AU</td>\n",
       "      <td>292812</td>\n",
       "      <td>269226</td>\n",
       "      <td>254040</td>\n",
       "      <td>288408</td>\n",
       "      <td>278360</td>\n",
       "      <td>ets_forecast</td>\n",
       "    </tr>\n",
       "    <tr>\n",
       "      <th>901</th>\n",
       "      <td>AIFG02M05D</td>\n",
       "      <td>2016-11-01</td>\n",
       "      <td>Germany</td>\n",
       "      <td>74922</td>\n",
       "      <td>0</td>\n",
       "      <td>2016-04-01</td>\n",
       "      <td>2018-12-01</td>\n",
       "      <td>DE</td>\n",
       "      <td>264207</td>\n",
       "      <td>250628</td>\n",
       "      <td>224300</td>\n",
       "      <td>195514</td>\n",
       "      <td>165802</td>\n",
       "      <td>prophet_forecast</td>\n",
       "    </tr>\n",
       "    <tr>\n",
       "      <th>35</th>\n",
       "      <td>0GZ</td>\n",
       "      <td>2016-05-01</td>\n",
       "      <td>Malaysia</td>\n",
       "      <td>16269</td>\n",
       "      <td>0</td>\n",
       "      <td>2016-01-01</td>\n",
       "      <td>2018-12-01</td>\n",
       "      <td>MY</td>\n",
       "      <td>14529</td>\n",
       "      <td>20232</td>\n",
       "      <td>13488</td>\n",
       "      <td>10116</td>\n",
       "      <td>8093</td>\n",
       "      <td>ma_2</td>\n",
       "    </tr>\n",
       "  </tbody>\n",
       "</table>\n",
       "</div>"
      ],
      "text/plain": [
       "      sub_brand      month    country  actuals  upsample  month_min  \\\n",
       "892  AIFG02M05C 2018-09-01    Germany    54561         0 2016-04-01   \n",
       "871  AIFG02M05C 2016-12-01    Germany   135181         0 2016-04-01   \n",
       "107         231 2016-09-01  Australia   401634         0 2016-01-01   \n",
       "901  AIFG02M05D 2016-11-01    Germany    74922         0 2016-04-01   \n",
       "35          0GZ 2016-05-01   Malaysia    16269         0 2016-01-01   \n",
       "\n",
       "     month_max country_code  naive   ma_2   ma_3   ma_4   ma_5  \\\n",
       "892 2018-12-01           DE 171699 127690 149667 163280 187847   \n",
       "871 2018-12-01           DE 136008 138986 152356 149230 139351   \n",
       "107 2018-12-01           AU 292812 269226 254040 288408 278360   \n",
       "901 2018-12-01           DE 264207 250628 224300 195514 165802   \n",
       "35  2018-12-01           MY  14529  20232  13488  10116   8093   \n",
       "\n",
       "            Algorithm  \n",
       "892    arima_forecast  \n",
       "871    arima_forecast  \n",
       "107      ets_forecast  \n",
       "901  prophet_forecast  \n",
       "35               ma_2  "
      ]
     },
     "execution_count": 25,
     "metadata": {},
     "output_type": "execute_result"
    }
   ],
   "source": [
    "print(training_prediction.shape, forecast_actuals_df.shape)\n",
    "training_prediction = pd.merge(left = training_prediction\n",
    "                               , right = forecast_actuals_df[[\"sub_brand\", \"Algorithm\"]]\n",
    "                               , on = \"sub_brand\"\n",
    "                               , how = \"left\")\n",
    "\n",
    "print(training_prediction.shape)\n",
    "\n",
    "training_prediction.sample(5)"
   ]
  },
  {
   "cell_type": "code",
   "execution_count": 26,
   "metadata": {},
   "outputs": [
    {
     "data": {
      "text/plain": [
       "31"
      ]
     },
     "execution_count": 26,
     "metadata": {},
     "output_type": "execute_result"
    }
   ],
   "source": [
    "training_prediction.sub_brand.nunique()"
   ]
  },
  {
   "cell_type": "code",
   "execution_count": 27,
   "metadata": {},
   "outputs": [
    {
     "data": {
      "text/plain": [
       "red_forecast        6\n",
       "ma_2                5\n",
       "naive               5\n",
       "ma_3                4\n",
       "arima_forecast      3\n",
       "ma_4                2\n",
       "sn_forecast         2\n",
       "ets_forecast        2\n",
       "prophet_forecast    1\n",
       "NaN                 1\n",
       "Name: Algorithm, dtype: int64"
      ]
     },
     "execution_count": 27,
     "metadata": {},
     "output_type": "execute_result"
    }
   ],
   "source": [
    "training_prediction.groupby(\"sub_brand\").agg({\"Algorithm\": pd.unique}).Algorithm.value_counts(dropna = False)"
   ]
  },
  {
   "cell_type": "code",
   "execution_count": 28,
   "metadata": {},
   "outputs": [
    {
     "data": {
      "text/plain": [
       "array(['05R'], dtype=object)"
      ]
     },
     "execution_count": 28,
     "metadata": {},
     "output_type": "execute_result"
    }
   ],
   "source": [
    "training_prediction[training_prediction[\"Algorithm\"].isnull()].sub_brand.unique()"
   ]
  },
  {
   "cell_type": "code",
   "execution_count": 29,
   "metadata": {},
   "outputs": [],
   "source": [
    "values={\"Algorithm\": \"ma_2\"}\n",
    "training_prediction.fillna(values, inplace=True)"
   ]
  },
  {
   "cell_type": "markdown",
   "metadata": {},
   "source": [
    "### Modeling on training data for Test data"
   ]
  },
  {
   "cell_type": "code",
   "execution_count": 30,
   "metadata": {},
   "outputs": [
    {
     "data": {
      "text/plain": [
       "red_forecast        6\n",
       "ma_2                6\n",
       "naive               5\n",
       "ma_3                4\n",
       "arima_forecast      3\n",
       "ma_4                2\n",
       "sn_forecast         2\n",
       "ets_forecast        2\n",
       "prophet_forecast    1\n",
       "Name: Algorithm, dtype: int64"
      ]
     },
     "execution_count": 30,
     "metadata": {},
     "output_type": "execute_result"
    }
   ],
   "source": [
    "training_prediction[training_prediction[\"month\"]==\"2018-10-01\"].Algorithm.value_counts()"
   ]
  },
  {
   "cell_type": "code",
   "execution_count": 31,
   "metadata": {},
   "outputs": [
    {
     "data": {
      "text/plain": [
       "arima_forecast      7\n",
       "ma_2                6\n",
       "red_forecast        5\n",
       "naive               4\n",
       "ma_3                3\n",
       "ma_4                2\n",
       "sn_forecast         2\n",
       "prophet_forecast    1\n",
       "ets_forecast        1\n",
       "Name: Algorithm, dtype: int64"
      ]
     },
     "execution_count": 31,
     "metadata": {},
     "output_type": "execute_result"
    }
   ],
   "source": [
    "training_prediction.loc[(training_prediction[\"sub_brand\"]==\"AIFG02M05E\"), [\"Algorithm\"]] = \"arima_forecast\"\n",
    "training_prediction.loc[(training_prediction[\"sub_brand\"]==\"AF3505F242\"), [\"Algorithm\"]] = \"arima_forecast\"\n",
    "training_prediction.loc[(training_prediction[\"sub_brand\"]==\"ADQ\"), [\"Algorithm\"]] = \"arima_forecast\"\n",
    "training_prediction.loc[(training_prediction[\"sub_brand\"]==\"231\"), [\"Algorithm\"]] = \"arima_forecast\"\n",
    "training_prediction[training_prediction[\"month\"]==\"2018-10-01\"].Algorithm.value_counts()"
   ]
  },
  {
   "cell_type": "code",
   "execution_count": 32,
   "metadata": {},
   "outputs": [
    {
     "data": {
      "text/html": [
       "<div>\n",
       "<style scoped>\n",
       "    .dataframe tbody tr th:only-of-type {\n",
       "        vertical-align: middle;\n",
       "    }\n",
       "\n",
       "    .dataframe tbody tr th {\n",
       "        vertical-align: top;\n",
       "    }\n",
       "\n",
       "    .dataframe thead th {\n",
       "        text-align: right;\n",
       "    }\n",
       "</style>\n",
       "<table border=\"1\" class=\"dataframe\">\n",
       "  <thead>\n",
       "    <tr style=\"text-align: right;\">\n",
       "      <th></th>\n",
       "      <th>sub_brand</th>\n",
       "      <th>month</th>\n",
       "      <th>country</th>\n",
       "      <th>actuals</th>\n",
       "      <th>upsample</th>\n",
       "      <th>month_min</th>\n",
       "      <th>month_max</th>\n",
       "      <th>country_code</th>\n",
       "      <th>naive</th>\n",
       "      <th>ma_2</th>\n",
       "      <th>ma_3</th>\n",
       "      <th>ma_4</th>\n",
       "      <th>ma_5</th>\n",
       "      <th>Algorithm</th>\n",
       "    </tr>\n",
       "  </thead>\n",
       "  <tbody>\n",
       "    <tr>\n",
       "      <th>58</th>\n",
       "      <td>0GZ</td>\n",
       "      <td>2018-04-01</td>\n",
       "      <td>Malaysia</td>\n",
       "      <td>13412</td>\n",
       "      <td>0</td>\n",
       "      <td>2016-01-01</td>\n",
       "      <td>2018-12-01</td>\n",
       "      <td>MY</td>\n",
       "      <td>15275</td>\n",
       "      <td>20490</td>\n",
       "      <td>19799</td>\n",
       "      <td>17714</td>\n",
       "      <td>20349</td>\n",
       "      <td>ma_2</td>\n",
       "    </tr>\n",
       "    <tr>\n",
       "      <th>230</th>\n",
       "      <td>233</td>\n",
       "      <td>2018-06-01</td>\n",
       "      <td>Malaysia</td>\n",
       "      <td>82213</td>\n",
       "      <td>0</td>\n",
       "      <td>2016-01-01</td>\n",
       "      <td>2018-12-01</td>\n",
       "      <td>MY</td>\n",
       "      <td>53542</td>\n",
       "      <td>46164</td>\n",
       "      <td>50760</td>\n",
       "      <td>52464</td>\n",
       "      <td>50710</td>\n",
       "      <td>red_forecast</td>\n",
       "    </tr>\n",
       "    <tr>\n",
       "      <th>836</th>\n",
       "      <td>AH1703L070</td>\n",
       "      <td>2016-08-01</td>\n",
       "      <td>Poland</td>\n",
       "      <td>50440</td>\n",
       "      <td>0</td>\n",
       "      <td>2016-01-01</td>\n",
       "      <td>2018-12-01</td>\n",
       "      <td>PL</td>\n",
       "      <td>8336</td>\n",
       "      <td>5238</td>\n",
       "      <td>11312</td>\n",
       "      <td>15989</td>\n",
       "      <td>14551</td>\n",
       "      <td>arima_forecast</td>\n",
       "    </tr>\n",
       "    <tr>\n",
       "      <th>567</th>\n",
       "      <td>AF3505D247</td>\n",
       "      <td>2018-08-01</td>\n",
       "      <td>Germany</td>\n",
       "      <td>129475</td>\n",
       "      <td>0</td>\n",
       "      <td>2016-01-01</td>\n",
       "      <td>2018-12-01</td>\n",
       "      <td>DE</td>\n",
       "      <td>120699</td>\n",
       "      <td>108696</td>\n",
       "      <td>108789</td>\n",
       "      <td>112004</td>\n",
       "      <td>113177</td>\n",
       "      <td>ma_2</td>\n",
       "    </tr>\n",
       "    <tr>\n",
       "      <th>550</th>\n",
       "      <td>AF3505D247</td>\n",
       "      <td>2017-03-01</td>\n",
       "      <td>Germany</td>\n",
       "      <td>143051</td>\n",
       "      <td>0</td>\n",
       "      <td>2016-01-01</td>\n",
       "      <td>2018-12-01</td>\n",
       "      <td>DE</td>\n",
       "      <td>154973</td>\n",
       "      <td>163142</td>\n",
       "      <td>162958</td>\n",
       "      <td>162410</td>\n",
       "      <td>161594</td>\n",
       "      <td>ma_2</td>\n",
       "    </tr>\n",
       "  </tbody>\n",
       "</table>\n",
       "</div>"
      ],
      "text/plain": [
       "      sub_brand      month   country  actuals  upsample  month_min  month_max  \\\n",
       "58          0GZ 2018-04-01  Malaysia    13412         0 2016-01-01 2018-12-01   \n",
       "230         233 2018-06-01  Malaysia    82213         0 2016-01-01 2018-12-01   \n",
       "836  AH1703L070 2016-08-01    Poland    50440         0 2016-01-01 2018-12-01   \n",
       "567  AF3505D247 2018-08-01   Germany   129475         0 2016-01-01 2018-12-01   \n",
       "550  AF3505D247 2017-03-01   Germany   143051         0 2016-01-01 2018-12-01   \n",
       "\n",
       "    country_code  naive   ma_2   ma_3   ma_4   ma_5       Algorithm  \n",
       "58            MY  15275  20490  19799  17714  20349            ma_2  \n",
       "230           MY  53542  46164  50760  52464  50710    red_forecast  \n",
       "836           PL   8336   5238  11312  15989  14551  arima_forecast  \n",
       "567           DE 120699 108696 108789 112004 113177            ma_2  \n",
       "550           DE 154973 163142 162958 162410 161594            ma_2  "
      ]
     },
     "execution_count": 32,
     "metadata": {},
     "output_type": "execute_result"
    }
   ],
   "source": [
    "training_prediction.sample(5)"
   ]
  },
  {
   "cell_type": "code",
   "execution_count": 33,
   "metadata": {},
   "outputs": [],
   "source": [
    "forecast_df = pd.DataFrame()"
   ]
  },
  {
   "cell_type": "markdown",
   "metadata": {},
   "source": [
    "### Checking the results on test data"
   ]
  },
  {
   "cell_type": "code",
   "execution_count": 35,
   "metadata": {},
   "outputs": [
    {
     "name": "stdout",
     "output_type": "stream",
     "text": [
      "ma_5 100\n",
      "ma_4 90.7097745752816\n",
      "ma_3 90.48995222354273\n",
      "ma_2 72.12061471723176\n",
      "naive 83.84205063355907\n",
      "seasonal naive 90.71906258537447\n",
      "ets 86.88082247420067\n",
      "Arima 61.357814377369984\n",
      "Reduction 51.79234424004566\n",
      "Prophet -56.82094931827359\n"
     ]
    }
   ],
   "source": [
    "print(\"ma_5\", gsk_error_analysis.calc_accuracy(forecast_df[(forecast_df[\"month\"]==\"2018-10-01\") & (forecast_df[\"Algorithm\"]==\"ma_5\")], \"actuals\", \"Forecast\"))\n",
    "print(\"ma_4\", gsk_error_analysis.calc_accuracy(forecast_df[(forecast_df[\"month\"]==\"2018-10-01\") & (forecast_df[\"Algorithm\"]==\"ma_4\")], \"actuals\", \"Forecast\"))\n",
    "print(\"ma_3\", gsk_error_analysis.calc_accuracy(forecast_df[(forecast_df[\"month\"]==\"2018-10-01\") & (forecast_df[\"Algorithm\"]==\"ma_3\")], \"actuals\", \"Forecast\"))\n",
    "print(\"ma_2\", gsk_error_analysis.calc_accuracy(forecast_df[(forecast_df[\"month\"]==\"2018-10-01\") & (forecast_df[\"Algorithm\"]==\"ma_2\")], \"actuals\", \"Forecast\"))\n",
    "print(\"naive\", gsk_error_analysis.calc_accuracy(forecast_df[(forecast_df[\"month\"]==\"2018-10-01\") & (forecast_df[\"Algorithm\"]==\"naive\")], \"actuals\", \"Forecast\"))\n",
    "print(\"seasonal naive\", gsk_error_analysis.calc_accuracy(forecast_df[(forecast_df[\"month\"]==\"2018-10-01\") & (forecast_df[\"Algorithm\"]==\"sn_forecast\")], \"actuals\", \"Forecast\"))\n",
    "print(\"ets\", gsk_error_analysis.calc_accuracy(forecast_df[(forecast_df[\"month\"]==\"2018-10-01\") & (forecast_df[\"Algorithm\"]==\"ets_forecast\")], \"actuals\", \"Forecast\"))\n",
    "print(\"Arima\", gsk_error_analysis.calc_accuracy(forecast_df[(forecast_df[\"month\"]==\"2018-10-01\") & (forecast_df[\"Algorithm\"]==\"arima_forecast\")], \"actuals\", \"Forecast\"))\n",
    "print(\"Reduction\", gsk_error_analysis.calc_accuracy(forecast_df[(forecast_df[\"month\"]==\"2018-10-01\") & (forecast_df[\"Algorithm\"]==\"red_forecast\")], \"actuals\", \"Forecast\"))\n",
    "print(\"Prophet\", gsk_error_analysis.calc_accuracy(forecast_df[(forecast_df[\"month\"]==\"2018-10-01\") & (forecast_df[\"Algorithm\"]==\"prophet_forecast\")], \"actuals\", \"Forecast\"))"
   ]
  },
  {
   "cell_type": "code",
   "execution_count": 36,
   "metadata": {},
   "outputs": [
    {
     "data": {
      "text/plain": [
       "69.36862688244646"
      ]
     },
     "execution_count": 36,
     "metadata": {},
     "output_type": "execute_result"
    }
   ],
   "source": [
    "gsk_error_analysis.calc_accuracy(forecast_df[forecast_df[\"month\"]==\"2018-10-01\"], \"actuals\", \"Forecast\")"
   ]
  },
  {
   "cell_type": "code",
   "execution_count": 37,
   "metadata": {},
   "outputs": [
    {
     "data": {
      "text/html": [
       "<div>\n",
       "<style scoped>\n",
       "    .dataframe tbody tr th:only-of-type {\n",
       "        vertical-align: middle;\n",
       "    }\n",
       "\n",
       "    .dataframe tbody tr th {\n",
       "        vertical-align: top;\n",
       "    }\n",
       "\n",
       "    .dataframe thead th {\n",
       "        text-align: right;\n",
       "    }\n",
       "</style>\n",
       "<table border=\"1\" class=\"dataframe\">\n",
       "  <thead>\n",
       "    <tr style=\"text-align: right;\">\n",
       "      <th></th>\n",
       "      <th>sub_brand</th>\n",
       "      <th>month</th>\n",
       "      <th>country</th>\n",
       "      <th>actuals</th>\n",
       "      <th>upsample</th>\n",
       "      <th>month_min</th>\n",
       "      <th>month_max</th>\n",
       "      <th>country_code</th>\n",
       "      <th>naive</th>\n",
       "      <th>ma_2</th>\n",
       "      <th>ma_3</th>\n",
       "      <th>ma_4</th>\n",
       "      <th>ma_5</th>\n",
       "      <th>Algorithm</th>\n",
       "      <th>Forecast</th>\n",
       "      <th>abs_error</th>\n",
       "    </tr>\n",
       "  </thead>\n",
       "  <tbody>\n",
       "    <tr>\n",
       "      <th>890</th>\n",
       "      <td>AF3505F242</td>\n",
       "      <td>2018-10-01</td>\n",
       "      <td>Germany</td>\n",
       "      <td>1817918</td>\n",
       "      <td>0</td>\n",
       "      <td>2016-01-01</td>\n",
       "      <td>2018-12-01</td>\n",
       "      <td>DE</td>\n",
       "      <td>1362220</td>\n",
       "      <td>1592596</td>\n",
       "      <td>1570799</td>\n",
       "      <td>1513337</td>\n",
       "      <td>1512362</td>\n",
       "      <td>arima_forecast</td>\n",
       "      <td>1498936</td>\n",
       "      <td>318982</td>\n",
       "    </tr>\n",
       "    <tr>\n",
       "      <th>168</th>\n",
       "      <td>231</td>\n",
       "      <td>2018-10-01</td>\n",
       "      <td>Australia</td>\n",
       "      <td>595372</td>\n",
       "      <td>0</td>\n",
       "      <td>2016-01-01</td>\n",
       "      <td>2018-12-01</td>\n",
       "      <td>AU</td>\n",
       "      <td>270540</td>\n",
       "      <td>259239</td>\n",
       "      <td>262774</td>\n",
       "      <td>252210</td>\n",
       "      <td>287240</td>\n",
       "      <td>arima_forecast</td>\n",
       "      <td>301182</td>\n",
       "      <td>294190</td>\n",
       "    </tr>\n",
       "    <tr>\n",
       "      <th>426</th>\n",
       "      <td>ADQ</td>\n",
       "      <td>2018-10-01</td>\n",
       "      <td>Australia</td>\n",
       "      <td>346176</td>\n",
       "      <td>0</td>\n",
       "      <td>2016-01-01</td>\n",
       "      <td>2018-12-01</td>\n",
       "      <td>AU</td>\n",
       "      <td>706968</td>\n",
       "      <td>703116</td>\n",
       "      <td>704784</td>\n",
       "      <td>688428</td>\n",
       "      <td>661824</td>\n",
       "      <td>arima_forecast</td>\n",
       "      <td>625010</td>\n",
       "      <td>278834</td>\n",
       "    </tr>\n",
       "    <tr>\n",
       "      <th>1225</th>\n",
       "      <td>AIFG02M05E</td>\n",
       "      <td>2018-10-01</td>\n",
       "      <td>Germany</td>\n",
       "      <td>83021</td>\n",
       "      <td>0</td>\n",
       "      <td>2016-04-01</td>\n",
       "      <td>2018-12-01</td>\n",
       "      <td>DE</td>\n",
       "      <td>514505</td>\n",
       "      <td>699356</td>\n",
       "      <td>600276</td>\n",
       "      <td>521036</td>\n",
       "      <td>535221</td>\n",
       "      <td>arima_forecast</td>\n",
       "      <td>298912</td>\n",
       "      <td>215891</td>\n",
       "    </tr>\n",
       "    <tr>\n",
       "      <th>1062</th>\n",
       "      <td>AH1703L06Y</td>\n",
       "      <td>2018-10-01</td>\n",
       "      <td>Poland</td>\n",
       "      <td>143989</td>\n",
       "      <td>0</td>\n",
       "      <td>2016-01-01</td>\n",
       "      <td>2018-12-01</td>\n",
       "      <td>PL</td>\n",
       "      <td>544521</td>\n",
       "      <td>774330</td>\n",
       "      <td>541427</td>\n",
       "      <td>447450</td>\n",
       "      <td>414143</td>\n",
       "      <td>red_forecast</td>\n",
       "      <td>323793</td>\n",
       "      <td>179804</td>\n",
       "    </tr>\n",
       "    <tr>\n",
       "      <th>512</th>\n",
       "      <td>AE3</td>\n",
       "      <td>2018-10-01</td>\n",
       "      <td>Australia</td>\n",
       "      <td>884760</td>\n",
       "      <td>0</td>\n",
       "      <td>2016-01-01</td>\n",
       "      <td>2018-12-01</td>\n",
       "      <td>AU</td>\n",
       "      <td>767304</td>\n",
       "      <td>832722</td>\n",
       "      <td>830676</td>\n",
       "      <td>806517</td>\n",
       "      <td>789938</td>\n",
       "      <td>naive</td>\n",
       "      <td>767304</td>\n",
       "      <td>117456</td>\n",
       "    </tr>\n",
       "    <tr>\n",
       "      <th>254</th>\n",
       "      <td>232</td>\n",
       "      <td>2018-10-01</td>\n",
       "      <td>Australia</td>\n",
       "      <td>278106</td>\n",
       "      <td>0</td>\n",
       "      <td>2016-01-01</td>\n",
       "      <td>2018-12-01</td>\n",
       "      <td>AU</td>\n",
       "      <td>381936</td>\n",
       "      <td>378210</td>\n",
       "      <td>352940</td>\n",
       "      <td>311823</td>\n",
       "      <td>360360</td>\n",
       "      <td>ma_2</td>\n",
       "      <td>378210</td>\n",
       "      <td>100104</td>\n",
       "    </tr>\n",
       "    <tr>\n",
       "      <th>1185</th>\n",
       "      <td>AIFG02M05D</td>\n",
       "      <td>2018-10-01</td>\n",
       "      <td>Germany</td>\n",
       "      <td>50126</td>\n",
       "      <td>0</td>\n",
       "      <td>2016-04-01</td>\n",
       "      <td>2018-12-01</td>\n",
       "      <td>DE</td>\n",
       "      <td>322115</td>\n",
       "      <td>303256</td>\n",
       "      <td>249488</td>\n",
       "      <td>251425</td>\n",
       "      <td>262078</td>\n",
       "      <td>prophet_forecast</td>\n",
       "      <td>128734</td>\n",
       "      <td>78608</td>\n",
       "    </tr>\n",
       "    <tr>\n",
       "      <th>383</th>\n",
       "      <td>246</td>\n",
       "      <td>2018-10-01</td>\n",
       "      <td>Australia</td>\n",
       "      <td>260616</td>\n",
       "      <td>0</td>\n",
       "      <td>2016-01-01</td>\n",
       "      <td>2018-12-01</td>\n",
       "      <td>AU</td>\n",
       "      <td>160428</td>\n",
       "      <td>176784</td>\n",
       "      <td>184120</td>\n",
       "      <td>196395</td>\n",
       "      <td>191909</td>\n",
       "      <td>red_forecast</td>\n",
       "      <td>199104</td>\n",
       "      <td>61512</td>\n",
       "    </tr>\n",
       "    <tr>\n",
       "      <th>650</th>\n",
       "      <td>AF233340MR</td>\n",
       "      <td>2018-10-01</td>\n",
       "      <td>Poland</td>\n",
       "      <td>386541</td>\n",
       "      <td>0</td>\n",
       "      <td>2016-01-01</td>\n",
       "      <td>2018-12-01</td>\n",
       "      <td>PL</td>\n",
       "      <td>353516</td>\n",
       "      <td>346814</td>\n",
       "      <td>387933</td>\n",
       "      <td>355547</td>\n",
       "      <td>344582</td>\n",
       "      <td>ets_forecast</td>\n",
       "      <td>335830</td>\n",
       "      <td>50711</td>\n",
       "    </tr>\n",
       "    <tr>\n",
       "      <th>340</th>\n",
       "      <td>242</td>\n",
       "      <td>2018-10-01</td>\n",
       "      <td>Australia</td>\n",
       "      <td>208176</td>\n",
       "      <td>0</td>\n",
       "      <td>2016-01-01</td>\n",
       "      <td>2018-12-01</td>\n",
       "      <td>AU</td>\n",
       "      <td>138756</td>\n",
       "      <td>217548</td>\n",
       "      <td>196696</td>\n",
       "      <td>227493</td>\n",
       "      <td>252451</td>\n",
       "      <td>sn_forecast</td>\n",
       "      <td>180264</td>\n",
       "      <td>27912</td>\n",
       "    </tr>\n",
       "    <tr>\n",
       "      <th>1145</th>\n",
       "      <td>AIFG02M05C</td>\n",
       "      <td>2018-10-01</td>\n",
       "      <td>Germany</td>\n",
       "      <td>126392</td>\n",
       "      <td>0</td>\n",
       "      <td>2016-04-01</td>\n",
       "      <td>2018-12-01</td>\n",
       "      <td>DE</td>\n",
       "      <td>148961</td>\n",
       "      <td>160330</td>\n",
       "      <td>134781</td>\n",
       "      <td>149491</td>\n",
       "      <td>160416</td>\n",
       "      <td>arima_forecast</td>\n",
       "      <td>151818</td>\n",
       "      <td>25426</td>\n",
       "    </tr>\n",
       "    <tr>\n",
       "      <th>125</th>\n",
       "      <td>0H1</td>\n",
       "      <td>2018-10-01</td>\n",
       "      <td>Malaysia</td>\n",
       "      <td>82896</td>\n",
       "      <td>0</td>\n",
       "      <td>2016-01-01</td>\n",
       "      <td>2018-12-01</td>\n",
       "      <td>MY</td>\n",
       "      <td>59650</td>\n",
       "      <td>97031</td>\n",
       "      <td>78004</td>\n",
       "      <td>72176</td>\n",
       "      <td>95908</td>\n",
       "      <td>naive</td>\n",
       "      <td>59650</td>\n",
       "      <td>23246</td>\n",
       "    </tr>\n",
       "    <tr>\n",
       "      <th>544</th>\n",
       "      <td>AF233330MO</td>\n",
       "      <td>2018-10-01</td>\n",
       "      <td>Poland</td>\n",
       "      <td>28913</td>\n",
       "      <td>0</td>\n",
       "      <td>2016-12-01</td>\n",
       "      <td>2018-12-01</td>\n",
       "      <td>PL</td>\n",
       "      <td>52076</td>\n",
       "      <td>44770</td>\n",
       "      <td>54719</td>\n",
       "      <td>53368</td>\n",
       "      <td>49693</td>\n",
       "      <td>naive</td>\n",
       "      <td>52076</td>\n",
       "      <td>23163</td>\n",
       "    </tr>\n",
       "    <tr>\n",
       "      <th>469</th>\n",
       "      <td>ADQM</td>\n",
       "      <td>2018-10-01</td>\n",
       "      <td>Malaysia</td>\n",
       "      <td>57147</td>\n",
       "      <td>0</td>\n",
       "      <td>2016-01-01</td>\n",
       "      <td>2018-12-01</td>\n",
       "      <td>MY</td>\n",
       "      <td>81005</td>\n",
       "      <td>73472</td>\n",
       "      <td>67392</td>\n",
       "      <td>64430</td>\n",
       "      <td>67960</td>\n",
       "      <td>ma_2</td>\n",
       "      <td>73472</td>\n",
       "      <td>16325</td>\n",
       "    </tr>\n",
       "    <tr>\n",
       "      <th>587</th>\n",
       "      <td>AF233330MP</td>\n",
       "      <td>2018-10-01</td>\n",
       "      <td>Poland</td>\n",
       "      <td>97883</td>\n",
       "      <td>0</td>\n",
       "      <td>2016-01-01</td>\n",
       "      <td>2018-12-01</td>\n",
       "      <td>PL</td>\n",
       "      <td>110859</td>\n",
       "      <td>79396</td>\n",
       "      <td>88084</td>\n",
       "      <td>92112</td>\n",
       "      <td>81048</td>\n",
       "      <td>naive</td>\n",
       "      <td>110859</td>\n",
       "      <td>12976</td>\n",
       "    </tr>\n",
       "    <tr>\n",
       "      <th>607</th>\n",
       "      <td>AF233340MQ</td>\n",
       "      <td>2018-10-01</td>\n",
       "      <td>Poland</td>\n",
       "      <td>18911</td>\n",
       "      <td>0</td>\n",
       "      <td>2017-12-01</td>\n",
       "      <td>2018-12-01</td>\n",
       "      <td>PL</td>\n",
       "      <td>15316</td>\n",
       "      <td>18672</td>\n",
       "      <td>46015</td>\n",
       "      <td>49557</td>\n",
       "      <td>49706</td>\n",
       "      <td>arima_forecast</td>\n",
       "      <td>31716</td>\n",
       "      <td>12805</td>\n",
       "    </tr>\n",
       "    <tr>\n",
       "      <th>211</th>\n",
       "      <td>231M</td>\n",
       "      <td>2018-10-01</td>\n",
       "      <td>Malaysia</td>\n",
       "      <td>141663</td>\n",
       "      <td>0</td>\n",
       "      <td>2016-01-01</td>\n",
       "      <td>2018-12-01</td>\n",
       "      <td>MY</td>\n",
       "      <td>135995</td>\n",
       "      <td>164291</td>\n",
       "      <td>154206</td>\n",
       "      <td>147245</td>\n",
       "      <td>149993</td>\n",
       "      <td>ma_3</td>\n",
       "      <td>154206</td>\n",
       "      <td>12543</td>\n",
       "    </tr>\n",
       "    <tr>\n",
       "      <th>976</th>\n",
       "      <td>AF3505F246</td>\n",
       "      <td>2018-10-01</td>\n",
       "      <td>Germany</td>\n",
       "      <td>227405</td>\n",
       "      <td>0</td>\n",
       "      <td>2016-01-01</td>\n",
       "      <td>2018-12-01</td>\n",
       "      <td>DE</td>\n",
       "      <td>211650</td>\n",
       "      <td>229946</td>\n",
       "      <td>269783</td>\n",
       "      <td>284678</td>\n",
       "      <td>327660</td>\n",
       "      <td>sn_forecast</td>\n",
       "      <td>239919</td>\n",
       "      <td>12514</td>\n",
       "    </tr>\n",
       "    <tr>\n",
       "      <th>82</th>\n",
       "      <td>0GZ</td>\n",
       "      <td>2018-10-01</td>\n",
       "      <td>Malaysia</td>\n",
       "      <td>21086</td>\n",
       "      <td>0</td>\n",
       "      <td>2016-01-01</td>\n",
       "      <td>2018-12-01</td>\n",
       "      <td>MY</td>\n",
       "      <td>43503</td>\n",
       "      <td>33298</td>\n",
       "      <td>26667</td>\n",
       "      <td>23353</td>\n",
       "      <td>28403</td>\n",
       "      <td>ma_2</td>\n",
       "      <td>33298</td>\n",
       "      <td>12212</td>\n",
       "    </tr>\n",
       "    <tr>\n",
       "      <th>297</th>\n",
       "      <td>233</td>\n",
       "      <td>2018-10-01</td>\n",
       "      <td>Malaysia</td>\n",
       "      <td>55293</td>\n",
       "      <td>0</td>\n",
       "      <td>2016-01-01</td>\n",
       "      <td>2018-12-01</td>\n",
       "      <td>MY</td>\n",
       "      <td>67060</td>\n",
       "      <td>74636</td>\n",
       "      <td>52032</td>\n",
       "      <td>47733</td>\n",
       "      <td>48895</td>\n",
       "      <td>red_forecast</td>\n",
       "      <td>44110</td>\n",
       "      <td>11183</td>\n",
       "    </tr>\n",
       "    <tr>\n",
       "      <th>1019</th>\n",
       "      <td>AF3505FADB</td>\n",
       "      <td>2018-10-01</td>\n",
       "      <td>Germany</td>\n",
       "      <td>136270</td>\n",
       "      <td>0</td>\n",
       "      <td>2016-01-01</td>\n",
       "      <td>2018-12-01</td>\n",
       "      <td>DE</td>\n",
       "      <td>158403</td>\n",
       "      <td>191424</td>\n",
       "      <td>164431</td>\n",
       "      <td>146108</td>\n",
       "      <td>138555</td>\n",
       "      <td>ma_4</td>\n",
       "      <td>146108</td>\n",
       "      <td>9838</td>\n",
       "    </tr>\n",
       "    <tr>\n",
       "      <th>1105</th>\n",
       "      <td>AH1703L070</td>\n",
       "      <td>2018-10-01</td>\n",
       "      <td>Poland</td>\n",
       "      <td>100</td>\n",
       "      <td>0</td>\n",
       "      <td>2016-01-01</td>\n",
       "      <td>2018-12-01</td>\n",
       "      <td>PL</td>\n",
       "      <td>7195</td>\n",
       "      <td>16622</td>\n",
       "      <td>11195</td>\n",
       "      <td>8466</td>\n",
       "      <td>8223</td>\n",
       "      <td>arima_forecast</td>\n",
       "      <td>8558</td>\n",
       "      <td>8458</td>\n",
       "    </tr>\n",
       "    <tr>\n",
       "      <th>688</th>\n",
       "      <td>AF233340MS</td>\n",
       "      <td>2018-10-01</td>\n",
       "      <td>Poland</td>\n",
       "      <td>4176</td>\n",
       "      <td>0</td>\n",
       "      <td>2016-06-01</td>\n",
       "      <td>2018-12-01</td>\n",
       "      <td>PL</td>\n",
       "      <td>3480</td>\n",
       "      <td>7572</td>\n",
       "      <td>6440</td>\n",
       "      <td>7386</td>\n",
       "      <td>6326</td>\n",
       "      <td>ma_4</td>\n",
       "      <td>7386</td>\n",
       "      <td>3210</td>\n",
       "    </tr>\n",
       "    <tr>\n",
       "      <th>933</th>\n",
       "      <td>AF3505F245</td>\n",
       "      <td>2018-10-01</td>\n",
       "      <td>Germany</td>\n",
       "      <td>10099</td>\n",
       "      <td>0</td>\n",
       "      <td>2016-01-01</td>\n",
       "      <td>2018-12-01</td>\n",
       "      <td>DE</td>\n",
       "      <td>10797</td>\n",
       "      <td>13124</td>\n",
       "      <td>15382</td>\n",
       "      <td>16228</td>\n",
       "      <td>16326</td>\n",
       "      <td>ma_2</td>\n",
       "      <td>13124</td>\n",
       "      <td>3025</td>\n",
       "    </tr>\n",
       "    <tr>\n",
       "      <th>804</th>\n",
       "      <td>AF3505F0GQ</td>\n",
       "      <td>2018-10-01</td>\n",
       "      <td>Germany</td>\n",
       "      <td>7726</td>\n",
       "      <td>0</td>\n",
       "      <td>2017-02-01</td>\n",
       "      <td>2018-12-01</td>\n",
       "      <td>DE</td>\n",
       "      <td>7644</td>\n",
       "      <td>6138</td>\n",
       "      <td>6160</td>\n",
       "      <td>5796</td>\n",
       "      <td>6892</td>\n",
       "      <td>ma_3</td>\n",
       "      <td>6160</td>\n",
       "      <td>1566</td>\n",
       "    </tr>\n",
       "    <tr>\n",
       "      <th>731</th>\n",
       "      <td>AF3505D247</td>\n",
       "      <td>2018-10-01</td>\n",
       "      <td>Germany</td>\n",
       "      <td>107361</td>\n",
       "      <td>0</td>\n",
       "      <td>2016-01-01</td>\n",
       "      <td>2018-12-01</td>\n",
       "      <td>DE</td>\n",
       "      <td>101380</td>\n",
       "      <td>106429</td>\n",
       "      <td>111186</td>\n",
       "      <td>107563</td>\n",
       "      <td>107845</td>\n",
       "      <td>ma_2</td>\n",
       "      <td>106429</td>\n",
       "      <td>932</td>\n",
       "    </tr>\n",
       "    <tr>\n",
       "      <th>24</th>\n",
       "      <td>05Q</td>\n",
       "      <td>2018-10-01</td>\n",
       "      <td>Malaysia</td>\n",
       "      <td>4592</td>\n",
       "      <td>0</td>\n",
       "      <td>2016-10-01</td>\n",
       "      <td>2018-12-01</td>\n",
       "      <td>MY</td>\n",
       "      <td>5173</td>\n",
       "      <td>5402</td>\n",
       "      <td>5127</td>\n",
       "      <td>5322</td>\n",
       "      <td>5307</td>\n",
       "      <td>ma_3</td>\n",
       "      <td>5127</td>\n",
       "      <td>535</td>\n",
       "    </tr>\n",
       "    <tr>\n",
       "      <th>39</th>\n",
       "      <td>05R</td>\n",
       "      <td>2018-10-01</td>\n",
       "      <td>Malaysia</td>\n",
       "      <td>1997</td>\n",
       "      <td>0</td>\n",
       "      <td>2018-05-01</td>\n",
       "      <td>2018-12-01</td>\n",
       "      <td>MY</td>\n",
       "      <td>1911</td>\n",
       "      <td>2047</td>\n",
       "      <td>1385</td>\n",
       "      <td>1039</td>\n",
       "      <td>831</td>\n",
       "      <td>ma_2</td>\n",
       "      <td>2047</td>\n",
       "      <td>50</td>\n",
       "    </tr>\n",
       "    <tr>\n",
       "      <th>847</th>\n",
       "      <td>AF3505F0LE</td>\n",
       "      <td>2018-10-01</td>\n",
       "      <td>Germany</td>\n",
       "      <td>7339</td>\n",
       "      <td>0</td>\n",
       "      <td>2016-01-01</td>\n",
       "      <td>2018-12-01</td>\n",
       "      <td>DE</td>\n",
       "      <td>13441</td>\n",
       "      <td>11556</td>\n",
       "      <td>8981</td>\n",
       "      <td>8710</td>\n",
       "      <td>8760</td>\n",
       "      <td>red_forecast</td>\n",
       "      <td>7304</td>\n",
       "      <td>35</td>\n",
       "    </tr>\n",
       "    <tr>\n",
       "      <th>774</th>\n",
       "      <td>AF3505E244</td>\n",
       "      <td>2018-10-01</td>\n",
       "      <td>Germany</td>\n",
       "      <td>56630</td>\n",
       "      <td>0</td>\n",
       "      <td>2016-01-01</td>\n",
       "      <td>2018-12-01</td>\n",
       "      <td>DE</td>\n",
       "      <td>43457</td>\n",
       "      <td>46728</td>\n",
       "      <td>51485</td>\n",
       "      <td>42483</td>\n",
       "      <td>56622</td>\n",
       "      <td>red_forecast</td>\n",
       "      <td>56620</td>\n",
       "      <td>10</td>\n",
       "    </tr>\n",
       "  </tbody>\n",
       "</table>\n",
       "</div>"
      ],
      "text/plain": [
       "       sub_brand      month    country  actuals  upsample  month_min  \\\n",
       "890   AF3505F242 2018-10-01    Germany  1817918         0 2016-01-01   \n",
       "168          231 2018-10-01  Australia   595372         0 2016-01-01   \n",
       "426          ADQ 2018-10-01  Australia   346176         0 2016-01-01   \n",
       "1225  AIFG02M05E 2018-10-01    Germany    83021         0 2016-04-01   \n",
       "1062  AH1703L06Y 2018-10-01     Poland   143989         0 2016-01-01   \n",
       "512          AE3 2018-10-01  Australia   884760         0 2016-01-01   \n",
       "254          232 2018-10-01  Australia   278106         0 2016-01-01   \n",
       "1185  AIFG02M05D 2018-10-01    Germany    50126         0 2016-04-01   \n",
       "383          246 2018-10-01  Australia   260616         0 2016-01-01   \n",
       "650   AF233340MR 2018-10-01     Poland   386541         0 2016-01-01   \n",
       "340          242 2018-10-01  Australia   208176         0 2016-01-01   \n",
       "1145  AIFG02M05C 2018-10-01    Germany   126392         0 2016-04-01   \n",
       "125          0H1 2018-10-01   Malaysia    82896         0 2016-01-01   \n",
       "544   AF233330MO 2018-10-01     Poland    28913         0 2016-12-01   \n",
       "469         ADQM 2018-10-01   Malaysia    57147         0 2016-01-01   \n",
       "587   AF233330MP 2018-10-01     Poland    97883         0 2016-01-01   \n",
       "607   AF233340MQ 2018-10-01     Poland    18911         0 2017-12-01   \n",
       "211         231M 2018-10-01   Malaysia   141663         0 2016-01-01   \n",
       "976   AF3505F246 2018-10-01    Germany   227405         0 2016-01-01   \n",
       "82           0GZ 2018-10-01   Malaysia    21086         0 2016-01-01   \n",
       "297          233 2018-10-01   Malaysia    55293         0 2016-01-01   \n",
       "1019  AF3505FADB 2018-10-01    Germany   136270         0 2016-01-01   \n",
       "1105  AH1703L070 2018-10-01     Poland      100         0 2016-01-01   \n",
       "688   AF233340MS 2018-10-01     Poland     4176         0 2016-06-01   \n",
       "933   AF3505F245 2018-10-01    Germany    10099         0 2016-01-01   \n",
       "804   AF3505F0GQ 2018-10-01    Germany     7726         0 2017-02-01   \n",
       "731   AF3505D247 2018-10-01    Germany   107361         0 2016-01-01   \n",
       "24           05Q 2018-10-01   Malaysia     4592         0 2016-10-01   \n",
       "39           05R 2018-10-01   Malaysia     1997         0 2018-05-01   \n",
       "847   AF3505F0LE 2018-10-01    Germany     7339         0 2016-01-01   \n",
       "774   AF3505E244 2018-10-01    Germany    56630         0 2016-01-01   \n",
       "\n",
       "      month_max country_code   naive    ma_2    ma_3    ma_4    ma_5  \\\n",
       "890  2018-12-01           DE 1362220 1592596 1570799 1513337 1512362   \n",
       "168  2018-12-01           AU  270540  259239  262774  252210  287240   \n",
       "426  2018-12-01           AU  706968  703116  704784  688428  661824   \n",
       "1225 2018-12-01           DE  514505  699356  600276  521036  535221   \n",
       "1062 2018-12-01           PL  544521  774330  541427  447450  414143   \n",
       "512  2018-12-01           AU  767304  832722  830676  806517  789938   \n",
       "254  2018-12-01           AU  381936  378210  352940  311823  360360   \n",
       "1185 2018-12-01           DE  322115  303256  249488  251425  262078   \n",
       "383  2018-12-01           AU  160428  176784  184120  196395  191909   \n",
       "650  2018-12-01           PL  353516  346814  387933  355547  344582   \n",
       "340  2018-12-01           AU  138756  217548  196696  227493  252451   \n",
       "1145 2018-12-01           DE  148961  160330  134781  149491  160416   \n",
       "125  2018-12-01           MY   59650   97031   78004   72176   95908   \n",
       "544  2018-12-01           PL   52076   44770   54719   53368   49693   \n",
       "469  2018-12-01           MY   81005   73472   67392   64430   67960   \n",
       "587  2018-12-01           PL  110859   79396   88084   92112   81048   \n",
       "607  2018-12-01           PL   15316   18672   46015   49557   49706   \n",
       "211  2018-12-01           MY  135995  164291  154206  147245  149993   \n",
       "976  2018-12-01           DE  211650  229946  269783  284678  327660   \n",
       "82   2018-12-01           MY   43503   33298   26667   23353   28403   \n",
       "297  2018-12-01           MY   67060   74636   52032   47733   48895   \n",
       "1019 2018-12-01           DE  158403  191424  164431  146108  138555   \n",
       "1105 2018-12-01           PL    7195   16622   11195    8466    8223   \n",
       "688  2018-12-01           PL    3480    7572    6440    7386    6326   \n",
       "933  2018-12-01           DE   10797   13124   15382   16228   16326   \n",
       "804  2018-12-01           DE    7644    6138    6160    5796    6892   \n",
       "731  2018-12-01           DE  101380  106429  111186  107563  107845   \n",
       "24   2018-12-01           MY    5173    5402    5127    5322    5307   \n",
       "39   2018-12-01           MY    1911    2047    1385    1039     831   \n",
       "847  2018-12-01           DE   13441   11556    8981    8710    8760   \n",
       "774  2018-12-01           DE   43457   46728   51485   42483   56622   \n",
       "\n",
       "             Algorithm  Forecast  abs_error  \n",
       "890     arima_forecast   1498936     318982  \n",
       "168     arima_forecast    301182     294190  \n",
       "426     arima_forecast    625010     278834  \n",
       "1225    arima_forecast    298912     215891  \n",
       "1062      red_forecast    323793     179804  \n",
       "512              naive    767304     117456  \n",
       "254               ma_2    378210     100104  \n",
       "1185  prophet_forecast    128734      78608  \n",
       "383       red_forecast    199104      61512  \n",
       "650       ets_forecast    335830      50711  \n",
       "340        sn_forecast    180264      27912  \n",
       "1145    arima_forecast    151818      25426  \n",
       "125              naive     59650      23246  \n",
       "544              naive     52076      23163  \n",
       "469               ma_2     73472      16325  \n",
       "587              naive    110859      12976  \n",
       "607     arima_forecast     31716      12805  \n",
       "211               ma_3    154206      12543  \n",
       "976        sn_forecast    239919      12514  \n",
       "82                ma_2     33298      12212  \n",
       "297       red_forecast     44110      11183  \n",
       "1019              ma_4    146108       9838  \n",
       "1105    arima_forecast      8558       8458  \n",
       "688               ma_4      7386       3210  \n",
       "933               ma_2     13124       3025  \n",
       "804               ma_3      6160       1566  \n",
       "731               ma_2    106429        932  \n",
       "24                ma_3      5127        535  \n",
       "39                ma_2      2047         50  \n",
       "847       red_forecast      7304         35  \n",
       "774       red_forecast     56620         10  "
      ]
     },
     "execution_count": 37,
     "metadata": {},
     "output_type": "execute_result"
    }
   ],
   "source": [
    "forecast_df[\"abs_error\"] = abs(forecast_df[\"actuals\"] - forecast_df[\"Forecast\"])\n",
    "kp = forecast_df[forecast_df[\"month\"]==\"2018-10-01\"].sort_values(by=\"abs_error\", ascending=False)\n",
    "kp"
   ]
  },
  {
   "cell_type": "code",
   "execution_count": 38,
   "metadata": {},
   "outputs": [
    {
     "data": {
      "image/png": "[encoded data removed]",
      "text/plain": [
       "<Figure size 1080x360 with 1 Axes>"
      ]
     },
     "metadata": {
      "needs_background": "light"
     },
     "output_type": "display_data"
    }
   ],
   "source": [
    "forecast_df[forecast_df[\"sub_brand\"]==\"231\"][[\"month\", \"actuals\", \"Forecast\"]].plot(x = \"month\", figsize=(15, 5))\n",
    "plt.show()"
   ]
  },
  {
   "cell_type": "code",
   "execution_count": 121,
   "metadata": {},
   "outputs": [
    {
     "data": {
      "image/png": "[encoded data removed]",
      "text/plain": [
       "<Figure size 1080x360 with 1 Axes>"
      ]
     },
     "metadata": {
      "needs_background": "light"
     },
     "output_type": "display_data"
    }
   ],
   "source": [
    "fig, axs = plt.subplots(figsize=(15, 5))\n",
    "sns.lineplot(x=\"month\"\n",
    "                  , y=\"actuals\"\n",
    "                  , markers=True\n",
    "                  , dashes=False\n",
    "                  , data=sb_data_ups[sb_data_ups[\"sub_brand\"]==\"AF3505F242\"])\n",
    "\n",
    "sns.lineplot(x=\"month\"\n",
    "                  , y=\"Forecast\"\n",
    "                  , markers=True\n",
    "                  , dashes=False\n",
    "                  , data=forecast_df[forecast_df[\"sub_brand\"]==\"AF3505F242\"])\n",
    "plt.xticks(forecast_df[\"month\"].unique(), rotation='vertical')\n",
    "plt.show()"
   ]
  },
  {
   "cell_type": "code",
   "execution_count": 40,
   "metadata": {},
   "outputs": [
    {
     "data": {
      "text/html": [
       "<div>\n",
       "<style scoped>\n",
       "    .dataframe tbody tr th:only-of-type {\n",
       "        vertical-align: middle;\n",
       "    }\n",
       "\n",
       "    .dataframe tbody tr th {\n",
       "        vertical-align: top;\n",
       "    }\n",
       "\n",
       "    .dataframe thead th {\n",
       "        text-align: right;\n",
       "    }\n",
       "</style>\n",
       "<table border=\"1\" class=\"dataframe\">\n",
       "  <thead>\n",
       "    <tr style=\"text-align: right;\">\n",
       "      <th>Algorithm</th>\n",
       "      <th>sub_brand</th>\n",
       "      <th>arima_forecast</th>\n",
       "      <th>ets_forecast</th>\n",
       "      <th>ma_2</th>\n",
       "      <th>ma_3</th>\n",
       "      <th>ma_4</th>\n",
       "      <th>ma_5</th>\n",
       "      <th>naive</th>\n",
       "      <th>prophet_forecast</th>\n",
       "      <th>red_forecast</th>\n",
       "      <th>sn_forecast</th>\n",
       "      <th>best_fit_algo</th>\n",
       "      <th>best_fit</th>\n",
       "    </tr>\n",
       "  </thead>\n",
       "  <tbody>\n",
       "    <tr>\n",
       "      <th>3</th>\n",
       "      <td>231</td>\n",
       "      <td>87</td>\n",
       "      <td>94</td>\n",
       "      <td>80</td>\n",
       "      <td>85</td>\n",
       "      <td>91</td>\n",
       "      <td>92</td>\n",
       "      <td>82</td>\n",
       "      <td>89</td>\n",
       "      <td>89</td>\n",
       "      <td>79</td>\n",
       "      <td>ets_forecast</td>\n",
       "      <td>94</td>\n",
       "    </tr>\n",
       "  </tbody>\n",
       "</table>\n",
       "</div>"
      ],
      "text/plain": [
       "Algorithm sub_brand  arima_forecast  ets_forecast  ma_2  ma_3  ma_4  ma_5  \\\n",
       "3               231              87            94    80    85    91    92   \n",
       "\n",
       "Algorithm  naive  prophet_forecast  red_forecast  sn_forecast best_fit_algo  \\\n",
       "3             82                89            89           79  ets_forecast   \n",
       "\n",
       "Algorithm  best_fit  \n",
       "3                94  "
      ]
     },
     "execution_count": 40,
     "metadata": {},
     "output_type": "execute_result"
    }
   ],
   "source": [
    "error_df[error_df[\"sub_brand\"]==\"231\"]"
   ]
  },
  {
   "cell_type": "code",
   "execution_count": 41,
   "metadata": {},
   "outputs": [],
   "source": [
    "# forecast_df[forecast_df[\"month\"]==\"2018-10-01\"]"
   ]
  },
  {
   "cell_type": "markdown",
   "metadata": {},
   "source": [
    "----\n",
    "# Forecasting for November 2018\n",
    "\n",
    "> - Training Month : Till May 2018    \n",
    "> - Validation Month: August 2018    \n",
    "> - Prediction Month: November 2018"
   ]
  },
  {
   "cell_type": "code",
   "execution_count": 42,
   "metadata": {},
   "outputs": [
    {
     "data": {
      "text/plain": [
       "((894, 13), (987, 13), 31, 31)"
      ]
     },
     "execution_count": 42,
     "metadata": {},
     "output_type": "execute_result"
    }
   ],
   "source": [
    "training_validation = sb_data_ups[sb_data_ups[\"month\"]<=\"2018-08-01\"]\n",
    "training_prediction = sb_data_ups[sb_data_ups[\"month\"]<=\"2018-11-01\"]\n",
    "\n",
    "training_validation.shape, training_prediction.shape, training_prediction.sub_brand.nunique(), training_validation.sub_brand.nunique()"
   ]
  },
  {
   "cell_type": "markdown",
   "metadata": {},
   "source": [
    "### Modeling on training data"
   ]
  },
  {
   "cell_type": "code",
   "execution_count": 43,
   "metadata": {},
   "outputs": [
    {
     "name": "stderr",
     "output_type": "stream",
     "text": [
      "  0%|                                                                                                                                                                                      | 0/31 [00:00<?, ?it/s]"
     ]
    },
    {
     "name": "stdout",
     "output_type": "stream",
     "text": [
      "Running Arima...\n"
     ]
    },
    {
     "name": "stderr",
     "output_type": "stream",
     "text": [
      "100%|█████████████████████████████████████████████████████████████████████████████████████████████████████████████████████████████████████████████████████████████████████████████| 31/31 [00:03<00:00,  8.37it/s]\n",
      " 19%|█████████████████████████████████▋                                                                                                                                            | 6/31 [00:00<00:00, 59.90it/s]"
     ]
    },
    {
     "name": "stdout",
     "output_type": "stream",
     "text": [
      "Running ETS...\n"
     ]
    },
    {
     "name": "stderr",
     "output_type": "stream",
     "text": [
      "100%|█████████████████████████████████████████████████████████████████████████████████████████████████████████████████████████████████████████████████████████████████████████████| 31/31 [00:00<00:00, 55.74it/s]\n",
      "100%|████████████████████████████████████████████████████████████████████████████████████████████████████████████████████████████████████████████████████████████████████████████| 31/31 [00:00<00:00, 320.44it/s]\n",
      "  0%|                                                                                                                                                                                      | 0/31 [00:00<?, ?it/s]"
     ]
    },
    {
     "name": "stdout",
     "output_type": "stream",
     "text": [
      "Running Seasonal Naive...\n",
      "Running Reduction...\n"
     ]
    },
    {
     "name": "stderr",
     "output_type": "stream",
     "text": [
      "100%|████████████████████████████████████████████████████████████████████████████████████████████████████████████████████████████████████████████████████████████████████████████| 31/31 [00:00<00:00, 114.78it/s]\n",
      "  0%|                                                                                                                                                                                      | 0/31 [00:00<?, ?it/s]"
     ]
    },
    {
     "name": "stdout",
     "output_type": "stream",
     "text": [
      "Running Prophet...\n"
     ]
    },
    {
     "name": "stderr",
     "output_type": "stream",
     "text": [
      "100%|█████████████████████████████████████████████████████████████████████████████████████████████████████████████████████████████████████████████████████████████████████████████| 31/31 [00:58<00:00,  1.88s/it]\n"
     ]
    },
    {
     "data": {
      "text/plain": [
       "(31, 13)"
      ]
     },
     "execution_count": 43,
     "metadata": {},
     "output_type": "execute_result"
    }
   ],
   "source": [
    "aug_univ_results = start_univariate_modeling(dataset = training_validation\n",
    "                                              , forecast_month = \"2018-08-01\"\n",
    "                                              , date_col = \"month\"\n",
    "                                              , lag_of=2\n",
    "                                              , grouped_on=\"sub_brand\"\n",
    "                                              , dependent_var=\"actuals\")\n",
    "aug_univ_results.shape"
   ]
  },
  {
   "cell_type": "code",
   "execution_count": 44,
   "metadata": {},
   "outputs": [
    {
     "name": "stdout",
     "output_type": "stream",
     "text": [
      "(31, 13)\n"
     ]
    },
    {
     "data": {
      "text/plain": [
       "(31, 23)"
      ]
     },
     "execution_count": 44,
     "metadata": {},
     "output_type": "execute_result"
    }
   ],
   "source": [
    "print(aug_univ_results.shape)\n",
    "aug_univ_af = pd.merge(left = aug_univ_results, right = training_validation, on = [\"sub_brand\", \"month\", \"actuals\"], how=\"inner\")\n",
    "aug_univ_af.shape"
   ]
  },
  {
   "cell_type": "markdown",
   "metadata": {},
   "source": [
    "### Checking the results on validation data - November 2018"
   ]
  },
  {
   "cell_type": "code",
   "execution_count": 45,
   "metadata": {},
   "outputs": [
    {
     "name": "stderr",
     "output_type": "stream",
     "text": [
      "100%|█████████████████████████████████████████████████████████████████████████████████████████████████████████████████████████████████████████████████████████████████████████████| 31/31 [00:00<00:00, 84.27it/s]\n"
     ]
    },
    {
     "data": {
      "text/plain": [
       "(31, 13)"
      ]
     },
     "execution_count": 45,
     "metadata": {},
     "output_type": "execute_result"
    }
   ],
   "source": [
    "# validation_results_mature = validation_results[validation_results[\"mature\"]==1]\n",
    "list_of_forecast = ['arima_forecast', 'ets_forecast', 'sn_forecast', 'red_forecast', \"prophet_forecast\", \"naive\", \"ma_2\", \"ma_3\", \"ma_4\", \"ma_5\"]\n",
    "error_list=[]\n",
    "\n",
    "for sequence in tqdm(aug_univ_af.sub_brand.unique()):\n",
    "    temp_df = aug_univ_af[aug_univ_af[\"sub_brand\"]==sequence]\n",
    "    for forecast in list_of_forecast:\n",
    "        err = gsk_error_analysis.calc_accuracy(temp_df, \"actuals\", forecast)\n",
    "        error_list.append([sequence, forecast, err])\n",
    "\n",
    "error_df = pd.DataFrame(error_list, columns=[\"sub_brand\", \"Algorithm\", \"Accuracy\"])\n",
    "error_df = error_df.pivot_table(values=\"Accuracy\", index=\"sub_brand\", columns=\"Algorithm\")\n",
    "error_df[\"best_fit_algo\"] = error_df.idxmax(axis=1)\n",
    "error_df[\"best_fit\"] = error_df.max(axis=1)\n",
    "error_df.reset_index(inplace=True)\n",
    "error_df.shape"
   ]
  },
  {
   "cell_type": "code",
   "execution_count": 46,
   "metadata": {},
   "outputs": [],
   "source": [
    "forecast_actuals_list=[]\n",
    "for sku in error_df.sub_brand.unique():\n",
    "    tmp_df = error_df[error_df[\"sub_brand\"]==sku]\n",
    "    algo_name = tmp_df[\"best_fit_algo\"].values[0]\n",
    "    actuals = aug_univ_af[aug_univ_af[\"sub_brand\"]==sku][\"actuals\"].values[0]\n",
    "    forecast = aug_univ_af[aug_univ_af[\"sub_brand\"]==sku][algo_name].values[0]\n",
    "    forecast_actuals_list.append([sku, algo_name, actuals, forecast])\n",
    "    \n",
    "forecast_actuals_df = pd.DataFrame(forecast_actuals_list, columns=[\"sub_brand\", \"Algorithm\", \"Actuals\", \"Forecast\"])"
   ]
  },
  {
   "cell_type": "code",
   "execution_count": 47,
   "metadata": {},
   "outputs": [
    {
     "data": {
      "text/plain": [
       "89.07822897107984"
      ]
     },
     "execution_count": 47,
     "metadata": {},
     "output_type": "execute_result"
    }
   ],
   "source": [
    "gsk_error_analysis.calc_accuracy(forecast_actuals_df, \"Actuals\", \"Forecast\")"
   ]
  },
  {
   "cell_type": "code",
   "execution_count": 48,
   "metadata": {},
   "outputs": [
    {
     "data": {
      "text/plain": [
       "naive               8\n",
       "sn_forecast         4\n",
       "prophet_forecast    4\n",
       "ma_3                3\n",
       "ma_2                3\n",
       "ma_4                2\n",
       "arima_forecast      2\n",
       "ma_5                2\n",
       "red_forecast        2\n",
       "ets_forecast        1\n",
       "Name: Algorithm, dtype: int64"
      ]
     },
     "execution_count": 48,
     "metadata": {},
     "output_type": "execute_result"
    }
   ],
   "source": [
    "forecast_actuals_df.Algorithm.value_counts()"
   ]
  },
  {
   "cell_type": "markdown",
   "metadata": {},
   "source": [
    "## Using the same-algos for same sub_brands - November 2018"
   ]
  },
  {
   "cell_type": "code",
   "execution_count": 49,
   "metadata": {},
   "outputs": [
    {
     "name": "stdout",
     "output_type": "stream",
     "text": [
      "(987, 13) (31, 4)\n",
      "(987, 14)\n"
     ]
    },
    {
     "data": {
      "text/html": [
       "<div>\n",
       "<style scoped>\n",
       "    .dataframe tbody tr th:only-of-type {\n",
       "        vertical-align: middle;\n",
       "    }\n",
       "\n",
       "    .dataframe tbody tr th {\n",
       "        vertical-align: top;\n",
       "    }\n",
       "\n",
       "    .dataframe thead th {\n",
       "        text-align: right;\n",
       "    }\n",
       "</style>\n",
       "<table border=\"1\" class=\"dataframe\">\n",
       "  <thead>\n",
       "    <tr style=\"text-align: right;\">\n",
       "      <th></th>\n",
       "      <th>sub_brand</th>\n",
       "      <th>month</th>\n",
       "      <th>country</th>\n",
       "      <th>actuals</th>\n",
       "      <th>upsample</th>\n",
       "      <th>month_min</th>\n",
       "      <th>month_max</th>\n",
       "      <th>country_code</th>\n",
       "      <th>naive</th>\n",
       "      <th>ma_2</th>\n",
       "      <th>ma_3</th>\n",
       "      <th>ma_4</th>\n",
       "      <th>ma_5</th>\n",
       "      <th>Algorithm</th>\n",
       "    </tr>\n",
       "  </thead>\n",
       "  <tbody>\n",
       "    <tr>\n",
       "      <th>245</th>\n",
       "      <td>242</td>\n",
       "      <td>2016-03-01</td>\n",
       "      <td>Australia</td>\n",
       "      <td>250620</td>\n",
       "      <td>0</td>\n",
       "      <td>2016-01-01</td>\n",
       "      <td>2018-12-01</td>\n",
       "      <td>AU</td>\n",
       "      <td>0</td>\n",
       "      <td>0</td>\n",
       "      <td>0</td>\n",
       "      <td>0</td>\n",
       "      <td>0</td>\n",
       "      <td>prophet_forecast</td>\n",
       "    </tr>\n",
       "    <tr>\n",
       "      <th>145</th>\n",
       "      <td>231M</td>\n",
       "      <td>2016-08-01</td>\n",
       "      <td>Malaysia</td>\n",
       "      <td>28805</td>\n",
       "      <td>0</td>\n",
       "      <td>2016-01-01</td>\n",
       "      <td>2018-12-01</td>\n",
       "      <td>MY</td>\n",
       "      <td>26585</td>\n",
       "      <td>32623</td>\n",
       "      <td>34776</td>\n",
       "      <td>31798</td>\n",
       "      <td>34580</td>\n",
       "      <td>sn_forecast</td>\n",
       "    </tr>\n",
       "    <tr>\n",
       "      <th>786</th>\n",
       "      <td>AF3505FADB</td>\n",
       "      <td>2016-01-01</td>\n",
       "      <td>Germany</td>\n",
       "      <td>1542368</td>\n",
       "      <td>0</td>\n",
       "      <td>2016-01-01</td>\n",
       "      <td>2018-12-01</td>\n",
       "      <td>DE</td>\n",
       "      <td>0</td>\n",
       "      <td>0</td>\n",
       "      <td>0</td>\n",
       "      <td>0</td>\n",
       "      <td>0</td>\n",
       "      <td>ma_5</td>\n",
       "    </tr>\n",
       "    <tr>\n",
       "      <th>592</th>\n",
       "      <td>AF3505E244</td>\n",
       "      <td>2016-04-01</td>\n",
       "      <td>Germany</td>\n",
       "      <td>62147</td>\n",
       "      <td>0</td>\n",
       "      <td>2016-01-01</td>\n",
       "      <td>2018-12-01</td>\n",
       "      <td>DE</td>\n",
       "      <td>51441</td>\n",
       "      <td>25720</td>\n",
       "      <td>17147</td>\n",
       "      <td>12860</td>\n",
       "      <td>10288</td>\n",
       "      <td>naive</td>\n",
       "    </tr>\n",
       "    <tr>\n",
       "      <th>905</th>\n",
       "      <td>AIFG02M05C</td>\n",
       "      <td>2017-06-01</td>\n",
       "      <td>Germany</td>\n",
       "      <td>203763</td>\n",
       "      <td>0</td>\n",
       "      <td>2016-04-01</td>\n",
       "      <td>2018-12-01</td>\n",
       "      <td>DE</td>\n",
       "      <td>346269</td>\n",
       "      <td>320086</td>\n",
       "      <td>275039</td>\n",
       "      <td>240074</td>\n",
       "      <td>211438</td>\n",
       "      <td>ma_4</td>\n",
       "    </tr>\n",
       "  </tbody>\n",
       "</table>\n",
       "</div>"
      ],
      "text/plain": [
       "      sub_brand      month    country  actuals  upsample  month_min  \\\n",
       "245         242 2016-03-01  Australia   250620         0 2016-01-01   \n",
       "145        231M 2016-08-01   Malaysia    28805         0 2016-01-01   \n",
       "786  AF3505FADB 2016-01-01    Germany  1542368         0 2016-01-01   \n",
       "592  AF3505E244 2016-04-01    Germany    62147         0 2016-01-01   \n",
       "905  AIFG02M05C 2017-06-01    Germany   203763         0 2016-04-01   \n",
       "\n",
       "     month_max country_code  naive   ma_2   ma_3   ma_4   ma_5  \\\n",
       "245 2018-12-01           AU      0      0      0      0      0   \n",
       "145 2018-12-01           MY  26585  32623  34776  31798  34580   \n",
       "786 2018-12-01           DE      0      0      0      0      0   \n",
       "592 2018-12-01           DE  51441  25720  17147  12860  10288   \n",
       "905 2018-12-01           DE 346269 320086 275039 240074 211438   \n",
       "\n",
       "            Algorithm  \n",
       "245  prophet_forecast  \n",
       "145       sn_forecast  \n",
       "786              ma_5  \n",
       "592             naive  \n",
       "905              ma_4  "
      ]
     },
     "execution_count": 49,
     "metadata": {},
     "output_type": "execute_result"
    }
   ],
   "source": [
    "print(training_prediction.shape, forecast_actuals_df.shape)\n",
    "training_prediction = pd.merge(left = training_prediction\n",
    "                               , right = forecast_actuals_df[[\"sub_brand\", \"Algorithm\"]]\n",
    "                               , on = \"sub_brand\"\n",
    "                               , how = \"left\")\n",
    "\n",
    "print(training_prediction.shape)\n",
    "\n",
    "training_prediction.sample(5)"
   ]
  },
  {
   "cell_type": "code",
   "execution_count": 50,
   "metadata": {},
   "outputs": [
    {
     "data": {
      "text/plain": [
       "31"
      ]
     },
     "execution_count": 50,
     "metadata": {},
     "output_type": "execute_result"
    }
   ],
   "source": [
    "training_prediction.sub_brand.nunique()"
   ]
  },
  {
   "cell_type": "code",
   "execution_count": 51,
   "metadata": {},
   "outputs": [],
   "source": [
    "values={\"Algorithm\": \"ma_2\"}\n",
    "training_prediction.fillna(values, inplace=True)"
   ]
  },
  {
   "cell_type": "markdown",
   "metadata": {},
   "source": [
    "### Modeling on training data for `november 2018` test data"
   ]
  },
  {
   "cell_type": "code",
   "execution_count": 52,
   "metadata": {},
   "outputs": [
    {
     "data": {
      "text/plain": [
       "naive               8\n",
       "sn_forecast         4\n",
       "prophet_forecast    4\n",
       "ma_3                3\n",
       "ma_2                3\n",
       "ma_4                2\n",
       "arima_forecast      2\n",
       "ma_5                2\n",
       "red_forecast        2\n",
       "ets_forecast        1\n",
       "Name: Algorithm, dtype: int64"
      ]
     },
     "execution_count": 52,
     "metadata": {},
     "output_type": "execute_result"
    }
   ],
   "source": [
    "training_prediction[training_prediction[\"month\"]==\"2018-11-01\"].Algorithm.value_counts()"
   ]
  },
  {
   "cell_type": "code",
   "execution_count": 53,
   "metadata": {},
   "outputs": [
    {
     "data": {
      "text/plain": [
       "naive               8\n",
       "arima_forecast      5\n",
       "sn_forecast         4\n",
       "prophet_forecast    3\n",
       "ma_3                3\n",
       "ma_2                3\n",
       "ma_4                2\n",
       "ma_5                2\n",
       "red_forecast        1\n",
       "Name: Algorithm, dtype: int64"
      ]
     },
     "execution_count": 53,
     "metadata": {},
     "output_type": "execute_result"
    }
   ],
   "source": [
    "training_prediction.loc[(training_prediction[\"sub_brand\"]==\"AIFG02M05E\"), [\"Algorithm\"]] = \"arima_forecast\"\n",
    "training_prediction.loc[(training_prediction[\"sub_brand\"]==\"246\"), [\"Algorithm\"]] = \"arima_forecast\"\n",
    "training_prediction.loc[(training_prediction[\"sub_brand\"]==\"242\"), [\"Algorithm\"]] = \"arima_forecast\"\n",
    "training_prediction[training_prediction[\"month\"]==\"2018-11-01\"].Algorithm.value_counts()"
   ]
  },
  {
   "cell_type": "code",
   "execution_count": 54,
   "metadata": {},
   "outputs": [
    {
     "data": {
      "text/html": [
       "<div>\n",
       "<style scoped>\n",
       "    .dataframe tbody tr th:only-of-type {\n",
       "        vertical-align: middle;\n",
       "    }\n",
       "\n",
       "    .dataframe tbody tr th {\n",
       "        vertical-align: top;\n",
       "    }\n",
       "\n",
       "    .dataframe thead th {\n",
       "        text-align: right;\n",
       "    }\n",
       "</style>\n",
       "<table border=\"1\" class=\"dataframe\">\n",
       "  <thead>\n",
       "    <tr style=\"text-align: right;\">\n",
       "      <th></th>\n",
       "      <th>sub_brand</th>\n",
       "      <th>month</th>\n",
       "      <th>country</th>\n",
       "      <th>actuals</th>\n",
       "      <th>upsample</th>\n",
       "      <th>month_min</th>\n",
       "      <th>month_max</th>\n",
       "      <th>country_code</th>\n",
       "      <th>naive</th>\n",
       "      <th>ma_2</th>\n",
       "      <th>ma_3</th>\n",
       "      <th>ma_4</th>\n",
       "      <th>ma_5</th>\n",
       "      <th>Algorithm</th>\n",
       "    </tr>\n",
       "  </thead>\n",
       "  <tbody>\n",
       "    <tr>\n",
       "      <th>977</th>\n",
       "      <td>AIFG02M05E</td>\n",
       "      <td>2018-02-01</td>\n",
       "      <td>Germany</td>\n",
       "      <td>464036</td>\n",
       "      <td>0</td>\n",
       "      <td>2016-04-01</td>\n",
       "      <td>2018-12-01</td>\n",
       "      <td>DE</td>\n",
       "      <td>50670</td>\n",
       "      <td>51773</td>\n",
       "      <td>75665</td>\n",
       "      <td>148746</td>\n",
       "      <td>260179</td>\n",
       "      <td>arima_forecast</td>\n",
       "    </tr>\n",
       "    <tr>\n",
       "      <th>260</th>\n",
       "      <td>242</td>\n",
       "      <td>2017-06-01</td>\n",
       "      <td>Australia</td>\n",
       "      <td>212779</td>\n",
       "      <td>0</td>\n",
       "      <td>2016-01-01</td>\n",
       "      <td>2018-12-01</td>\n",
       "      <td>AU</td>\n",
       "      <td>347448</td>\n",
       "      <td>366852</td>\n",
       "      <td>315192</td>\n",
       "      <td>261705</td>\n",
       "      <td>308650</td>\n",
       "      <td>arima_forecast</td>\n",
       "    </tr>\n",
       "    <tr>\n",
       "      <th>2</th>\n",
       "      <td>05Q</td>\n",
       "      <td>2016-12-01</td>\n",
       "      <td>Malaysia</td>\n",
       "      <td>2</td>\n",
       "      <td>0</td>\n",
       "      <td>2016-10-01</td>\n",
       "      <td>2018-12-01</td>\n",
       "      <td>MY</td>\n",
       "      <td>0</td>\n",
       "      <td>0</td>\n",
       "      <td>0</td>\n",
       "      <td>0</td>\n",
       "      <td>0</td>\n",
       "      <td>ma_2</td>\n",
       "    </tr>\n",
       "    <tr>\n",
       "      <th>374</th>\n",
       "      <td>ADQM</td>\n",
       "      <td>2018-03-01</td>\n",
       "      <td>Malaysia</td>\n",
       "      <td>82076</td>\n",
       "      <td>0</td>\n",
       "      <td>2016-01-01</td>\n",
       "      <td>2018-12-01</td>\n",
       "      <td>MY</td>\n",
       "      <td>78412</td>\n",
       "      <td>63031</td>\n",
       "      <td>52947</td>\n",
       "      <td>71193</td>\n",
       "      <td>69449</td>\n",
       "      <td>prophet_forecast</td>\n",
       "    </tr>\n",
       "    <tr>\n",
       "      <th>583</th>\n",
       "      <td>AF3505D247</td>\n",
       "      <td>2018-06-01</td>\n",
       "      <td>Germany</td>\n",
       "      <td>111478</td>\n",
       "      <td>0</td>\n",
       "      <td>2016-01-01</td>\n",
       "      <td>2018-12-01</td>\n",
       "      <td>DE</td>\n",
       "      <td>108974</td>\n",
       "      <td>115312</td>\n",
       "      <td>116164</td>\n",
       "      <td>112710</td>\n",
       "      <td>115470</td>\n",
       "      <td>naive</td>\n",
       "    </tr>\n",
       "  </tbody>\n",
       "</table>\n",
       "</div>"
      ],
      "text/plain": [
       "      sub_brand      month    country  actuals  upsample  month_min  \\\n",
       "977  AIFG02M05E 2018-02-01    Germany   464036         0 2016-04-01   \n",
       "260         242 2017-06-01  Australia   212779         0 2016-01-01   \n",
       "2           05Q 2016-12-01   Malaysia        2         0 2016-10-01   \n",
       "374        ADQM 2018-03-01   Malaysia    82076         0 2016-01-01   \n",
       "583  AF3505D247 2018-06-01    Germany   111478         0 2016-01-01   \n",
       "\n",
       "     month_max country_code  naive   ma_2   ma_3   ma_4   ma_5  \\\n",
       "977 2018-12-01           DE  50670  51773  75665 148746 260179   \n",
       "260 2018-12-01           AU 347448 366852 315192 261705 308650   \n",
       "2   2018-12-01           MY      0      0      0      0      0   \n",
       "374 2018-12-01           MY  78412  63031  52947  71193  69449   \n",
       "583 2018-12-01           DE 108974 115312 116164 112710 115470   \n",
       "\n",
       "            Algorithm  \n",
       "977    arima_forecast  \n",
       "260    arima_forecast  \n",
       "2                ma_2  \n",
       "374  prophet_forecast  \n",
       "583             naive  "
      ]
     },
     "execution_count": 54,
     "metadata": {},
     "output_type": "execute_result"
    }
   ],
   "source": [
    "training_prediction.sample(5)"
   ]
  },
  {
   "cell_type": "code",
   "execution_count": 55,
   "metadata": {},
   "outputs": [],
   "source": [
    "nov_forecast_df = pd.DataFrame()"
   ]
  },
  {
   "cell_type": "code",
   "execution_count": 56,
   "metadata": {},
   "outputs": [
    {
     "name": "stderr",
     "output_type": "stream",
     "text": [
      "100%|█████████████████████████████████████████████████████████████████████████████████████████████████████████████████████████████████████████████████████████████████████████████| 31/31 [00:05<00:00,  5.65it/s]\n"
     ]
    }
   ],
   "source": [
    "for sku in tqdm(training_prediction.sub_brand.unique()):\n",
    "    sku_series = training_prediction[training_prediction[\"sub_brand\"]==sku]\n",
    "    if sku_series[\"Algorithm\"].unique() == \"ets_forecast\":\n",
    "        sku_series = gsk_modeling.single_run_ets(sku_series, lag_of=2, forecast_month=\"2018-11-01\", forecast_period=12, month_var=\"month\", dependent_var=\"actuals\")\n",
    "    elif sku_series[\"Algorithm\"].unique() == \"arima_forecast\":\n",
    "        sku_series = gsk_modeling.single_run_arima(sku_series, lag_of=2, forecast_month=\"2018-11-01\", forecast_period=12, month_var = \"month\", dependent_var=\"actuals\")\n",
    "    elif sku_series[\"Algorithm\"].unique() == \"red_forecast\":\n",
    "        sku_series = gsk_modeling.single_run_reduction(sku_series, lag_of=2, forecast_month=\"2018-11-01\", forecast_period=12, month_var=\"month\", dependent_var=\"actuals\")\n",
    "    elif sku_series[\"Algorithm\"].unique() == \"sn_forecast\":\n",
    "        sku_series = gsk_modeling.single_run_sn(sku_series, lag_of=2, forecast_month=\"2018-11-01\", forecast_period=12, month_var=\"month\", dependent_var=\"actuals\")\n",
    "    elif sku_series[\"Algorithm\"].unique() == \"prophet_forecast\":\n",
    "        sku_series = gsk_modeling.single_run_prophet(sku_series, lag_of=2, forecast_month=\"2018-11-01\", forecast_period=12, month_var=\"month\", dependent_var=\"actuals\")\n",
    "    else:\n",
    "        sku_series = gsk_modeling.single_run_generic(sku_series, lag_of=2, grouped_on=\"sub_brand\", forecast_month=\"2018-11-01\", forecast_period=12, month_var=\"month\"\n",
    "                                                     , dependent_var=\"actuals\")\n",
    "    nov_forecast_df = pd.concat([nov_forecast_df, sku_series], axis=0, ignore_index=True)"
   ]
  },
  {
   "cell_type": "code",
   "execution_count": 57,
   "metadata": {},
   "outputs": [
    {
     "data": {
      "text/html": [
       "<div>\n",
       "<style scoped>\n",
       "    .dataframe tbody tr th:only-of-type {\n",
       "        vertical-align: middle;\n",
       "    }\n",
       "\n",
       "    .dataframe tbody tr th {\n",
       "        vertical-align: top;\n",
       "    }\n",
       "\n",
       "    .dataframe thead th {\n",
       "        text-align: right;\n",
       "    }\n",
       "</style>\n",
       "<table border=\"1\" class=\"dataframe\">\n",
       "  <thead>\n",
       "    <tr style=\"text-align: right;\">\n",
       "      <th></th>\n",
       "      <th>sub_brand</th>\n",
       "      <th>month</th>\n",
       "      <th>country</th>\n",
       "      <th>actuals</th>\n",
       "      <th>upsample</th>\n",
       "      <th>month_min</th>\n",
       "      <th>month_max</th>\n",
       "      <th>country_code</th>\n",
       "      <th>naive</th>\n",
       "      <th>ma_2</th>\n",
       "      <th>ma_3</th>\n",
       "      <th>ma_4</th>\n",
       "      <th>ma_5</th>\n",
       "      <th>Algorithm</th>\n",
       "      <th>Forecast</th>\n",
       "    </tr>\n",
       "  </thead>\n",
       "  <tbody>\n",
       "    <tr>\n",
       "      <th>1001</th>\n",
       "      <td>AF3505F246</td>\n",
       "      <td>2018-11-01</td>\n",
       "      <td>Germany</td>\n",
       "      <td>242043</td>\n",
       "      <td>0</td>\n",
       "      <td>2016-01-01</td>\n",
       "      <td>2018-12-01</td>\n",
       "      <td>DE</td>\n",
       "      <td>266544</td>\n",
       "      <td>239097</td>\n",
       "      <td>242146</td>\n",
       "      <td>268974</td>\n",
       "      <td>281051</td>\n",
       "      <td>ma_2</td>\n",
       "      <td>239097</td>\n",
       "    </tr>\n",
       "  </tbody>\n",
       "</table>\n",
       "</div>"
      ],
      "text/plain": [
       "       sub_brand      month  country  actuals  upsample  month_min  month_max  \\\n",
       "1001  AF3505F246 2018-11-01  Germany   242043         0 2016-01-01 2018-12-01   \n",
       "\n",
       "     country_code  naive   ma_2   ma_3   ma_4   ma_5 Algorithm  Forecast  \n",
       "1001           DE 266544 239097 242146 268974 281051      ma_2    239097  "
      ]
     },
     "execution_count": 57,
     "metadata": {},
     "output_type": "execute_result"
    }
   ],
   "source": [
    "nov_forecast_df[(nov_forecast_df[\"month\"]==\"2018-11-01\") & (nov_forecast_df[\"sub_brand\"]==\"AF3505F246\")]"
   ]
  },
  {
   "cell_type": "markdown",
   "metadata": {},
   "source": [
    "# Checking the results on November test data"
   ]
  },
  {
   "cell_type": "code",
   "execution_count": 58,
   "metadata": {},
   "outputs": [
    {
     "name": "stdout",
     "output_type": "stream",
     "text": [
      "ma_5 97.04490743569377\n",
      "ma_4 66.92075590918049\n",
      "ma_3 50.5577987986287\n",
      "ma_2 98.40030653750172\n",
      "naive 43.91467771835841\n",
      "seasonal naive 83.55566634216669\n",
      "ets 100\n",
      "Arima 19.278454751989045\n",
      "Reduction 83.08954121849494\n",
      "Prophet 63.43173938952095\n"
     ]
    }
   ],
   "source": [
    "print(\"ma_5\", gsk_error_analysis.calc_accuracy(nov_forecast_df[(nov_forecast_df[\"month\"]==\"2018-11-01\") & (nov_forecast_df[\"Algorithm\"]==\"ma_5\")], \"actuals\", \"Forecast\"))\n",
    "print(\"ma_4\", gsk_error_analysis.calc_accuracy(nov_forecast_df[(nov_forecast_df[\"month\"]==\"2018-11-01\") & (nov_forecast_df[\"Algorithm\"]==\"ma_4\")], \"actuals\", \"Forecast\"))\n",
    "print(\"ma_3\", gsk_error_analysis.calc_accuracy(nov_forecast_df[(nov_forecast_df[\"month\"]==\"2018-11-01\") & (nov_forecast_df[\"Algorithm\"]==\"ma_3\")], \"actuals\", \"Forecast\"))\n",
    "print(\"ma_2\", gsk_error_analysis.calc_accuracy(nov_forecast_df[(nov_forecast_df[\"month\"]==\"2018-11-01\") & (nov_forecast_df[\"Algorithm\"]==\"ma_2\")], \"actuals\", \"Forecast\"))\n",
    "print(\"naive\", gsk_error_analysis.calc_accuracy(nov_forecast_df[(nov_forecast_df[\"month\"]==\"2018-11-01\") & (nov_forecast_df[\"Algorithm\"]==\"naive\")], \"actuals\", \"Forecast\"))\n",
    "print(\"seasonal naive\", gsk_error_analysis.calc_accuracy(nov_forecast_df[(nov_forecast_df[\"month\"]==\"2018-11-01\") & (nov_forecast_df[\"Algorithm\"]==\"sn_forecast\")], \"actuals\", \"Forecast\"))\n",
    "print(\"ets\", gsk_error_analysis.calc_accuracy(nov_forecast_df[(nov_forecast_df[\"month\"]==\"2018-11-01\") & (nov_forecast_df[\"Algorithm\"]==\"ets_forecast\")], \"actuals\", \"Forecast\"))\n",
    "print(\"Arima\", gsk_error_analysis.calc_accuracy(nov_forecast_df[(nov_forecast_df[\"month\"]==\"2018-11-01\") & (nov_forecast_df[\"Algorithm\"]==\"arima_forecast\")], \"actuals\", \"Forecast\"))\n",
    "print(\"Reduction\", gsk_error_analysis.calc_accuracy(nov_forecast_df[(nov_forecast_df[\"month\"]==\"2018-11-01\") & (nov_forecast_df[\"Algorithm\"]==\"red_forecast\")], \"actuals\", \"Forecast\"))\n",
    "print(\"Prophet\", gsk_error_analysis.calc_accuracy(nov_forecast_df[(nov_forecast_df[\"month\"]==\"2018-11-01\") & (nov_forecast_df[\"Algorithm\"]==\"prophet_forecast\")], \"actuals\", \"Forecast\"))"
   ]
  },
  {
   "cell_type": "code",
   "execution_count": 59,
   "metadata": {},
   "outputs": [
    {
     "data": {
      "text/plain": [
       "62.8394061520928"
      ]
     },
     "execution_count": 59,
     "metadata": {},
     "output_type": "execute_result"
    }
   ],
   "source": [
    "gsk_error_analysis.calc_accuracy(nov_forecast_df[nov_forecast_df[\"month\"]==\"2018-11-01\"], \"actuals\", \"Forecast\")"
   ]
  },
  {
   "cell_type": "code",
   "execution_count": 60,
   "metadata": {},
   "outputs": [],
   "source": [
    "nov_forecast_df[\"abs_error\"] = abs(nov_forecast_df[\"actuals\"] - nov_forecast_df[\"Forecast\"])\n",
    "kp = nov_forecast_df[nov_forecast_df[\"month\"]==\"2018-11-01\"].sort_values(by=\"abs_error\", ascending=False)"
   ]
  },
  {
   "cell_type": "code",
   "execution_count": 61,
   "metadata": {},
   "outputs": [
    {
     "data": {
      "text/html": [
       "<div>\n",
       "<style scoped>\n",
       "    .dataframe tbody tr th:only-of-type {\n",
       "        vertical-align: middle;\n",
       "    }\n",
       "\n",
       "    .dataframe tbody tr th {\n",
       "        vertical-align: top;\n",
       "    }\n",
       "\n",
       "    .dataframe thead th {\n",
       "        text-align: right;\n",
       "    }\n",
       "</style>\n",
       "<table border=\"1\" class=\"dataframe\">\n",
       "  <thead>\n",
       "    <tr style=\"text-align: right;\">\n",
       "      <th></th>\n",
       "      <th>sub_brand</th>\n",
       "      <th>month</th>\n",
       "      <th>country</th>\n",
       "      <th>actuals</th>\n",
       "      <th>upsample</th>\n",
       "      <th>month_min</th>\n",
       "      <th>month_max</th>\n",
       "      <th>country_code</th>\n",
       "      <th>naive</th>\n",
       "      <th>ma_2</th>\n",
       "      <th>ma_3</th>\n",
       "      <th>ma_4</th>\n",
       "      <th>ma_5</th>\n",
       "      <th>Algorithm</th>\n",
       "      <th>Forecast</th>\n",
       "      <th>abs_error</th>\n",
       "    </tr>\n",
       "  </thead>\n",
       "  <tbody>\n",
       "    <tr>\n",
       "      <th>1256</th>\n",
       "      <td>AIFG02M05E</td>\n",
       "      <td>2018-11-01</td>\n",
       "      <td>Germany</td>\n",
       "      <td>70246</td>\n",
       "      <td>0</td>\n",
       "      <td>2016-04-01</td>\n",
       "      <td>2018-12-01</td>\n",
       "      <td>DE</td>\n",
       "      <td>751419</td>\n",
       "      <td>632962</td>\n",
       "      <td>716710</td>\n",
       "      <td>638062</td>\n",
       "      <td>567112</td>\n",
       "      <td>arima_forecast</td>\n",
       "      <td>345727</td>\n",
       "      <td>275481</td>\n",
       "    </tr>\n",
       "    <tr>\n",
       "      <th>261</th>\n",
       "      <td>232</td>\n",
       "      <td>2018-11-01</td>\n",
       "      <td>Australia</td>\n",
       "      <td>204048</td>\n",
       "      <td>0</td>\n",
       "      <td>2016-01-01</td>\n",
       "      <td>2018-12-01</td>\n",
       "      <td>AU</td>\n",
       "      <td>362112</td>\n",
       "      <td>372024</td>\n",
       "      <td>372844</td>\n",
       "      <td>355233</td>\n",
       "      <td>321881</td>\n",
       "      <td>arima_forecast</td>\n",
       "      <td>357455</td>\n",
       "      <td>153407</td>\n",
       "    </tr>\n",
       "    <tr>\n",
       "      <th>393</th>\n",
       "      <td>246</td>\n",
       "      <td>2018-11-01</td>\n",
       "      <td>Australia</td>\n",
       "      <td>124956</td>\n",
       "      <td>0</td>\n",
       "      <td>2016-01-01</td>\n",
       "      <td>2018-12-01</td>\n",
       "      <td>AU</td>\n",
       "      <td>157680</td>\n",
       "      <td>159054</td>\n",
       "      <td>170416</td>\n",
       "      <td>177510</td>\n",
       "      <td>188652</td>\n",
       "      <td>arima_forecast</td>\n",
       "      <td>184940</td>\n",
       "      <td>59984</td>\n",
       "    </tr>\n",
       "    <tr>\n",
       "      <th>349</th>\n",
       "      <td>242</td>\n",
       "      <td>2018-11-01</td>\n",
       "      <td>Australia</td>\n",
       "      <td>230064</td>\n",
       "      <td>0</td>\n",
       "      <td>2016-01-01</td>\n",
       "      <td>2018-12-01</td>\n",
       "      <td>AU</td>\n",
       "      <td>197664</td>\n",
       "      <td>168210</td>\n",
       "      <td>210920</td>\n",
       "      <td>196938</td>\n",
       "      <td>221527</td>\n",
       "      <td>arima_forecast</td>\n",
       "      <td>254730</td>\n",
       "      <td>24666</td>\n",
       "    </tr>\n",
       "    <tr>\n",
       "      <th>623</th>\n",
       "      <td>AF233340MQ</td>\n",
       "      <td>2018-11-01</td>\n",
       "      <td>Poland</td>\n",
       "      <td>19488</td>\n",
       "      <td>0</td>\n",
       "      <td>2017-12-01</td>\n",
       "      <td>2018-12-01</td>\n",
       "      <td>PL</td>\n",
       "      <td>13332</td>\n",
       "      <td>14324</td>\n",
       "      <td>16892</td>\n",
       "      <td>37844</td>\n",
       "      <td>42312</td>\n",
       "      <td>arima_forecast</td>\n",
       "      <td>29673</td>\n",
       "      <td>10185</td>\n",
       "    </tr>\n",
       "  </tbody>\n",
       "</table>\n",
       "</div>"
      ],
      "text/plain": [
       "       sub_brand      month    country  actuals  upsample  month_min  \\\n",
       "1256  AIFG02M05E 2018-11-01    Germany    70246         0 2016-04-01   \n",
       "261          232 2018-11-01  Australia   204048         0 2016-01-01   \n",
       "393          246 2018-11-01  Australia   124956         0 2016-01-01   \n",
       "349          242 2018-11-01  Australia   230064         0 2016-01-01   \n",
       "623   AF233340MQ 2018-11-01     Poland    19488         0 2017-12-01   \n",
       "\n",
       "      month_max country_code  naive   ma_2   ma_3   ma_4   ma_5  \\\n",
       "1256 2018-12-01           DE 751419 632962 716710 638062 567112   \n",
       "261  2018-12-01           AU 362112 372024 372844 355233 321881   \n",
       "393  2018-12-01           AU 157680 159054 170416 177510 188652   \n",
       "349  2018-12-01           AU 197664 168210 210920 196938 221527   \n",
       "623  2018-12-01           PL  13332  14324  16892  37844  42312   \n",
       "\n",
       "           Algorithm  Forecast  abs_error  \n",
       "1256  arima_forecast    345727     275481  \n",
       "261   arima_forecast    357455     153407  \n",
       "393   arima_forecast    184940      59984  \n",
       "349   arima_forecast    254730      24666  \n",
       "623   arima_forecast     29673      10185  "
      ]
     },
     "execution_count": 61,
     "metadata": {},
     "output_type": "execute_result"
    }
   ],
   "source": [
    "kp[kp[\"Algorithm\"]==\"arima_forecast\"]"
   ]
  },
  {
   "cell_type": "code",
   "execution_count": 62,
   "metadata": {},
   "outputs": [
    {
     "data": {
      "image/png": "[encoded data removed]",
      "text/plain": [
       "<Figure size 1080x360 with 1 Axes>"
      ]
     },
     "metadata": {
      "needs_background": "light"
     },
     "output_type": "display_data"
    }
   ],
   "source": [
    "fig, axs = plt.subplots(figsize=(15, 5))\n",
    "sns.lineplot(x=\"month\"\n",
    "                  , y=\"actuals\"\n",
    "                  , markers=True\n",
    "                  , dashes=False\n",
    "                  , data=sb_data_ups[sb_data_ups[\"sub_brand\"]==\"242\"])\n",
    "\n",
    "sns.lineplot(x=\"month\"\n",
    "                  , y=\"Forecast\"\n",
    "                  , markers=True\n",
    "                  , dashes=False\n",
    "                  , data=nov_forecast_df[nov_forecast_df[\"sub_brand\"]==\"242\"])\n",
    "plt.xticks(nov_forecast_df[\"month\"].unique(), rotation='vertical')\n",
    "plt.show()"
   ]
  },
  {
   "cell_type": "markdown",
   "metadata": {},
   "source": [
    "# Forecasting for November 2018\n",
    "> - Training Month : Till May 2018\n",
    "> - Validation Month: August 2018\n",
    "> - Prediction Month: November 2018"
   ]
  },
  {
   "cell_type": "code",
   "execution_count": 63,
   "metadata": {},
   "outputs": [
    {
     "data": {
      "text/plain": [
       "((925, 13), (1020, 13), 33, 31)"
      ]
     },
     "execution_count": 63,
     "metadata": {},
     "output_type": "execute_result"
    }
   ],
   "source": [
    "training_validation = sb_data_ups[sb_data_ups[\"month\"]<=\"2018-09-01\"]\n",
    "training_prediction = sb_data_ups[sb_data_ups[\"month\"]<=\"2018-12-01\"]\n",
    "\n",
    "training_validation.shape, training_prediction.shape, training_prediction.sub_brand.nunique(), training_validation.sub_brand.nunique()"
   ]
  },
  {
   "cell_type": "markdown",
   "metadata": {},
   "source": [
    "## Modeling on training data"
   ]
  },
  {
   "cell_type": "code",
   "execution_count": 64,
   "metadata": {},
   "outputs": [
    {
     "name": "stderr",
     "output_type": "stream",
     "text": [
      "  0%|                                                                                                                                                                                      | 0/31 [00:00<?, ?it/s]"
     ]
    },
    {
     "name": "stdout",
     "output_type": "stream",
     "text": [
      "Running Arima...\n"
     ]
    },
    {
     "name": "stderr",
     "output_type": "stream",
     "text": [
      "100%|█████████████████████████████████████████████████████████████████████████████████████████████████████████████████████████████████████████████████████████████████████████████| 31/31 [00:03<00:00,  8.27it/s]\n",
      " 19%|█████████████████████████████████▋                                                                                                                                            | 6/31 [00:00<00:00, 53.44it/s]"
     ]
    },
    {
     "name": "stdout",
     "output_type": "stream",
     "text": [
      "Running ETS...\n"
     ]
    },
    {
     "name": "stderr",
     "output_type": "stream",
     "text": [
      "100%|█████████████████████████████████████████████████████████████████████████████████████████████████████████████████████████████████████████████████████████████████████████████| 31/31 [00:00<00:00, 56.66it/s]\n",
      "100%|████████████████████████████████████████████████████████████████████████████████████████████████████████████████████████████████████████████████████████████████████████████| 31/31 [00:00<00:00, 322.51it/s]\n",
      "  0%|                                                                                                                                                                                      | 0/31 [00:00<?, ?it/s]"
     ]
    },
    {
     "name": "stdout",
     "output_type": "stream",
     "text": [
      "Running Seasonal Naive...\n",
      "Running Reduction...\n"
     ]
    },
    {
     "name": "stderr",
     "output_type": "stream",
     "text": [
      "100%|████████████████████████████████████████████████████████████████████████████████████████████████████████████████████████████████████████████████████████████████████████████| 31/31 [00:00<00:00, 115.23it/s]\n",
      "  0%|                                                                                                                                                                                      | 0/31 [00:00<?, ?it/s]"
     ]
    },
    {
     "name": "stdout",
     "output_type": "stream",
     "text": [
      "Running Prophet...\n"
     ]
    },
    {
     "name": "stderr",
     "output_type": "stream",
     "text": [
      "  3%|█████▌                                                                                                                                                                        | 1/31 [00:05<02:48,  5.61s/it]INFO:fbprophet:n_changepoints greater than number of observations. Using 0.\n",
      "100%|█████████████████████████████████████████████████████████████████████████████████████████████████████████████████████████████████████████████████████████████████████████████| 31/31 [00:58<00:00,  1.87s/it]\n"
     ]
    },
    {
     "data": {
      "text/plain": [
       "(31, 13)"
      ]
     },
     "execution_count": 64,
     "metadata": {},
     "output_type": "execute_result"
    }
   ],
   "source": [
    "sep_univ_results = start_univariate_modeling(dataset = training_validation\n",
    "                                             , forecast_month = \"2018-09-01\"\n",
    "                                             , date_col = \"month\"\n",
    "                                             , lag_of=2\n",
    "                                             , grouped_on=\"sub_brand\"\n",
    "                                             , dependent_var=\"actuals\")\n",
    "sep_univ_results.shape"
   ]
  },
  {
   "cell_type": "code",
   "execution_count": 65,
   "metadata": {},
   "outputs": [
    {
     "name": "stdout",
     "output_type": "stream",
     "text": [
      "(31, 13)\n"
     ]
    },
    {
     "data": {
      "text/plain": [
       "(31, 23)"
      ]
     },
     "execution_count": 65,
     "metadata": {},
     "output_type": "execute_result"
    }
   ],
   "source": [
    "print(sep_univ_results.shape)\n",
    "sep_univ_af = pd.merge(left = sep_univ_results, right = training_validation, on = [\"sub_brand\", \"month\", \"actuals\"], how=\"inner\")\n",
    "sep_univ_af.shape"
   ]
  },
  {
   "cell_type": "markdown",
   "metadata": {},
   "source": [
    "## Checking the results on validation data - December 2018"
   ]
  },
  {
   "cell_type": "code",
   "execution_count": 66,
   "metadata": {},
   "outputs": [
    {
     "name": "stderr",
     "output_type": "stream",
     "text": [
      "100%|█████████████████████████████████████████████████████████████████████████████████████████████████████████████████████████████████████████████████████████████████████████████| 31/31 [00:00<00:00, 88.95it/s]\n"
     ]
    },
    {
     "data": {
      "text/plain": [
       "(31, 13)"
      ]
     },
     "execution_count": 66,
     "metadata": {},
     "output_type": "execute_result"
    }
   ],
   "source": [
    "# validation_results_mature = validation_results[validation_results[\"mature\"]==1]\n",
    "list_of_forecast = ['arima_forecast', 'ets_forecast', 'sn_forecast', 'red_forecast', \"prophet_forecast\", \"naive\", \"ma_2\", \"ma_3\", \"ma_4\", \"ma_5\"]\n",
    "error_list=[]\n",
    "\n",
    "for sequence in tqdm(sep_univ_af.sub_brand.unique()):\n",
    "    temp_df = sep_univ_af[sep_univ_af[\"sub_brand\"]==sequence]\n",
    "    for forecast in list_of_forecast:\n",
    "        err = gsk_error_analysis.calc_accuracy(temp_df, \"actuals\", forecast)\n",
    "        error_list.append([sequence, forecast, err])\n",
    "\n",
    "error_df = pd.DataFrame(error_list, columns=[\"sub_brand\", \"Algorithm\", \"Accuracy\"])\n",
    "error_df = error_df.pivot_table(values=\"Accuracy\", index=\"sub_brand\", columns=\"Algorithm\")\n",
    "error_df[\"best_fit_algo\"] = error_df.idxmax(axis=1)\n",
    "error_df[\"best_fit\"] = error_df.max(axis=1)\n",
    "error_df.reset_index(inplace=True)\n",
    "error_df.shape"
   ]
  },
  {
   "cell_type": "code",
   "execution_count": 68,
   "metadata": {},
   "outputs": [],
   "source": [
    "forecast_actuals_list=[]\n",
    "for sku in error_df.sub_brand.unique():\n",
    "    tmp_df = error_df[error_df[\"sub_brand\"]==sku]\n",
    "    algo_name = tmp_df[\"best_fit_algo\"].values[0]\n",
    "    actuals = sep_univ_af[sep_univ_af[\"sub_brand\"]==sku][\"actuals\"].values[0]\n",
    "    forecast = sep_univ_af[sep_univ_af[\"sub_brand\"]==sku][algo_name].values[0]\n",
    "    forecast_actuals_list.append([sku, algo_name, actuals, forecast])\n",
    "    \n",
    "forecast_actuals_df = pd.DataFrame(forecast_actuals_list, columns=[\"sub_brand\", \"Algorithm\", \"Actuals\", \"Forecast\"])"
   ]
  },
  {
   "cell_type": "code",
   "execution_count": 69,
   "metadata": {},
   "outputs": [
    {
     "data": {
      "text/plain": [
       "90.99632900232533"
      ]
     },
     "execution_count": 69,
     "metadata": {},
     "output_type": "execute_result"
    }
   ],
   "source": [
    "gsk_error_analysis.calc_accuracy(forecast_actuals_df, \"Actuals\", \"Forecast\")"
   ]
  },
  {
   "cell_type": "code",
   "execution_count": 70,
   "metadata": {},
   "outputs": [
    {
     "data": {
      "text/plain": [
       "naive               10\n",
       "sn_forecast          5\n",
       "red_forecast         5\n",
       "prophet_forecast     4\n",
       "arima_forecast       2\n",
       "ma_3                 2\n",
       "ets_forecast         2\n",
       "ma_2                 1\n",
       "Name: Algorithm, dtype: int64"
      ]
     },
     "execution_count": 70,
     "metadata": {},
     "output_type": "execute_result"
    }
   ],
   "source": [
    "forecast_actuals_df.Algorithm.value_counts()"
   ]
  },
  {
   "cell_type": "markdown",
   "metadata": {},
   "source": [
    "### Using the same-algos for same sub_brands - December 2018"
   ]
  },
  {
   "cell_type": "code",
   "execution_count": 71,
   "metadata": {},
   "outputs": [
    {
     "name": "stdout",
     "output_type": "stream",
     "text": [
      "(1020, 13) (31, 4)\n",
      "(1020, 14)\n"
     ]
    }
   ],
   "source": [
    "print(training_prediction.shape, forecast_actuals_df.shape)\n",
    "training_prediction = pd.merge(left = training_prediction\n",
    "                               , right = forecast_actuals_df[[\"sub_brand\", \"Algorithm\"]]\n",
    "                               , on = \"sub_brand\"\n",
    "                               , how = \"left\")\n",
    "\n",
    "print(training_prediction.shape)"
   ]
  },
  {
   "cell_type": "code",
   "execution_count": 72,
   "metadata": {},
   "outputs": [
    {
     "data": {
      "text/html": [
       "<div>\n",
       "<style scoped>\n",
       "    .dataframe tbody tr th:only-of-type {\n",
       "        vertical-align: middle;\n",
       "    }\n",
       "\n",
       "    .dataframe tbody tr th {\n",
       "        vertical-align: top;\n",
       "    }\n",
       "\n",
       "    .dataframe thead th {\n",
       "        text-align: right;\n",
       "    }\n",
       "</style>\n",
       "<table border=\"1\" class=\"dataframe\">\n",
       "  <thead>\n",
       "    <tr style=\"text-align: right;\">\n",
       "      <th></th>\n",
       "      <th>sub_brand</th>\n",
       "      <th>month</th>\n",
       "      <th>country</th>\n",
       "      <th>actuals</th>\n",
       "      <th>upsample</th>\n",
       "      <th>month_min</th>\n",
       "      <th>month_max</th>\n",
       "      <th>country_code</th>\n",
       "      <th>naive</th>\n",
       "      <th>ma_2</th>\n",
       "      <th>ma_3</th>\n",
       "      <th>ma_4</th>\n",
       "      <th>ma_5</th>\n",
       "      <th>Algorithm</th>\n",
       "    </tr>\n",
       "  </thead>\n",
       "  <tbody>\n",
       "    <tr>\n",
       "      <th>192</th>\n",
       "      <td>232</td>\n",
       "      <td>2017-02-01</td>\n",
       "      <td>Australia</td>\n",
       "      <td>312960</td>\n",
       "      <td>0</td>\n",
       "      <td>2016-01-01</td>\n",
       "      <td>2018-12-01</td>\n",
       "      <td>AU</td>\n",
       "      <td>472044</td>\n",
       "      <td>361476</td>\n",
       "      <td>425102</td>\n",
       "      <td>415627</td>\n",
       "      <td>386294</td>\n",
       "      <td>ets_forecast</td>\n",
       "    </tr>\n",
       "    <tr>\n",
       "      <th>58</th>\n",
       "      <td>0GZ</td>\n",
       "      <td>2017-12-01</td>\n",
       "      <td>Malaysia</td>\n",
       "      <td>25706</td>\n",
       "      <td>0</td>\n",
       "      <td>2016-01-01</td>\n",
       "      <td>2018-12-01</td>\n",
       "      <td>MY</td>\n",
       "      <td>30891</td>\n",
       "      <td>34809</td>\n",
       "      <td>27192</td>\n",
       "      <td>23746</td>\n",
       "      <td>23778</td>\n",
       "      <td>prophet_forecast</td>\n",
       "    </tr>\n",
       "    <tr>\n",
       "      <th>875</th>\n",
       "      <td>AH1703L06Y</td>\n",
       "      <td>2018-04-01</td>\n",
       "      <td>Poland</td>\n",
       "      <td>165521</td>\n",
       "      <td>0</td>\n",
       "      <td>2016-01-01</td>\n",
       "      <td>2018-12-01</td>\n",
       "      <td>PL</td>\n",
       "      <td>352386</td>\n",
       "      <td>342236</td>\n",
       "      <td>371372</td>\n",
       "      <td>359477</td>\n",
       "      <td>329202</td>\n",
       "      <td>arima_forecast</td>\n",
       "    </tr>\n",
       "    <tr>\n",
       "      <th>320</th>\n",
       "      <td>246</td>\n",
       "      <td>2018-10-01</td>\n",
       "      <td>Australia</td>\n",
       "      <td>260616</td>\n",
       "      <td>0</td>\n",
       "      <td>2016-01-01</td>\n",
       "      <td>2018-12-01</td>\n",
       "      <td>AU</td>\n",
       "      <td>160428</td>\n",
       "      <td>176784</td>\n",
       "      <td>184120</td>\n",
       "      <td>196395</td>\n",
       "      <td>191909</td>\n",
       "      <td>ma_3</td>\n",
       "    </tr>\n",
       "    <tr>\n",
       "      <th>266</th>\n",
       "      <td>242</td>\n",
       "      <td>2017-04-01</td>\n",
       "      <td>Australia</td>\n",
       "      <td>312528</td>\n",
       "      <td>0</td>\n",
       "      <td>2016-01-01</td>\n",
       "      <td>2018-12-01</td>\n",
       "      <td>AU</td>\n",
       "      <td>211872</td>\n",
       "      <td>156558</td>\n",
       "      <td>269848</td>\n",
       "      <td>292179</td>\n",
       "      <td>255922</td>\n",
       "      <td>red_forecast</td>\n",
       "    </tr>\n",
       "  </tbody>\n",
       "</table>\n",
       "</div>"
      ],
      "text/plain": [
       "      sub_brand      month    country  actuals  upsample  month_min  \\\n",
       "192         232 2017-02-01  Australia   312960         0 2016-01-01   \n",
       "58          0GZ 2017-12-01   Malaysia    25706         0 2016-01-01   \n",
       "875  AH1703L06Y 2018-04-01     Poland   165521         0 2016-01-01   \n",
       "320         246 2018-10-01  Australia   260616         0 2016-01-01   \n",
       "266         242 2017-04-01  Australia   312528         0 2016-01-01   \n",
       "\n",
       "     month_max country_code  naive   ma_2   ma_3   ma_4   ma_5  \\\n",
       "192 2018-12-01           AU 472044 361476 425102 415627 386294   \n",
       "58  2018-12-01           MY  30891  34809  27192  23746  23778   \n",
       "875 2018-12-01           PL 352386 342236 371372 359477 329202   \n",
       "320 2018-12-01           AU 160428 176784 184120 196395 191909   \n",
       "266 2018-12-01           AU 211872 156558 269848 292179 255922   \n",
       "\n",
       "            Algorithm  \n",
       "192      ets_forecast  \n",
       "58   prophet_forecast  \n",
       "875    arima_forecast  \n",
       "320              ma_3  \n",
       "266      red_forecast  "
      ]
     },
     "execution_count": 72,
     "metadata": {},
     "output_type": "execute_result"
    }
   ],
   "source": [
    "training_prediction.sample(5)"
   ]
  },
  {
   "cell_type": "code",
   "execution_count": 73,
   "metadata": {},
   "outputs": [
    {
     "data": {
      "text/plain": [
       "33"
      ]
     },
     "execution_count": 73,
     "metadata": {},
     "output_type": "execute_result"
    }
   ],
   "source": [
    "training_prediction.sub_brand.nunique()"
   ]
  },
  {
   "cell_type": "code",
   "execution_count": 74,
   "metadata": {},
   "outputs": [],
   "source": [
    "values={\"Algorithm\": \"ma_2\"}\n",
    "training_prediction.fillna(values, inplace=True)"
   ]
  },
  {
   "cell_type": "markdown",
   "metadata": {},
   "source": [
    "### Modeling on training data for December 2018 test data"
   ]
  },
  {
   "cell_type": "code",
   "execution_count": 100,
   "metadata": {},
   "outputs": [
    {
     "data": {
      "text/plain": [
       "naive               10\n",
       "sn_forecast          5\n",
       "prophet_forecast     4\n",
       "red_forecast         4\n",
       "arima_forecast       3\n",
       "ma_2                 3\n",
       "ma_3                 2\n",
       "ets_forecast         2\n",
       "Name: Algorithm, dtype: int64"
      ]
     },
     "execution_count": 100,
     "metadata": {},
     "output_type": "execute_result"
    }
   ],
   "source": [
    "training_prediction[training_prediction[\"month\"]==\"2018-12-01\"].Algorithm.value_counts()"
   ]
  },
  {
   "cell_type": "code",
   "execution_count": 101,
   "metadata": {},
   "outputs": [
    {
     "data": {
      "text/plain": [
       "naive               10\n",
       "sn_forecast          5\n",
       "prophet_forecast     4\n",
       "red_forecast         4\n",
       "arima_forecast       3\n",
       "ma_2                 3\n",
       "ma_3                 2\n",
       "ets_forecast         2\n",
       "Name: Algorithm, dtype: int64"
      ]
     },
     "execution_count": 101,
     "metadata": {},
     "output_type": "execute_result"
    }
   ],
   "source": [
    "# training_prediction.loc[(training_prediction[\"sub_brand\"]==\"AIFG02M05E\"), [\"Algorithm\"]] = \"arima_forecast\"\n",
    "# training_prediction.loc[(training_prediction[\"sub_brand\"]==\"246\"), [\"Algorithm\"]] = \"arima_forecast\"\n",
    "training_prediction.loc[(training_prediction[\"sub_brand\"]==\"231\"), [\"Algorithm\"]] = \"arima_forecast\"\n",
    "training_prediction[training_prediction[\"month\"]==\"2018-12-01\"].Algorithm.value_counts()"
   ]
  },
  {
   "cell_type": "code",
   "execution_count": 102,
   "metadata": {},
   "outputs": [
    {
     "name": "stderr",
     "output_type": "stream",
     "text": [
      "100%|█████████████████████████████████████████████████████████████████████████████████████████████████████████████████████████████████████████████████████████████████████████████| 33/33 [00:07<00:00,  4.43it/s]\n"
     ]
    }
   ],
   "source": [
    "dec_forecast_df = pd.DataFrame()\n",
    "\n",
    "for sku in tqdm(training_prediction.sub_brand.unique()):\n",
    "    sku_series = training_prediction[training_prediction[\"sub_brand\"]==sku]\n",
    "    if sku_series[\"Algorithm\"].unique() == \"ets_forecast\":\n",
    "        sku_series = gsk_modeling.single_run_ets(sku_series, lag_of=2, forecast_month=\"2018-12-01\", forecast_period=12, month_var=\"month\", dependent_var=\"actuals\")\n",
    "    elif sku_series[\"Algorithm\"].unique() == \"arima_forecast\":\n",
    "        sku_series = gsk_modeling.single_run_arima(sku_series, lag_of=2, forecast_month=\"2018-12-01\", forecast_period=12, month_var = \"month\", dependent_var=\"actuals\")\n",
    "    elif sku_series[\"Algorithm\"].unique() == \"red_forecast\":\n",
    "        sku_series = gsk_modeling.single_run_reduction(sku_series, lag_of=2, forecast_month=\"2018-12-01\", forecast_period=12, month_var=\"month\", dependent_var=\"actuals\")\n",
    "    elif sku_series[\"Algorithm\"].unique() == \"sn_forecast\":\n",
    "        sku_series = gsk_modeling.single_run_sn(sku_series, lag_of=2, forecast_month=\"2018-12-01\", forecast_period=12, month_var=\"month\", dependent_var=\"actuals\")\n",
    "    elif sku_series[\"Algorithm\"].unique() == \"prophet_forecast\":\n",
    "        sku_series = gsk_modeling.single_run_prophet(sku_series, lag_of=2, forecast_month=\"2018-12-01\", forecast_period=12, month_var=\"month\", dependent_var=\"actuals\")\n",
    "    else:\n",
    "        sku_series = gsk_modeling.single_run_generic(sku_series, lag_of=2, grouped_on=\"sub_brand\", forecast_month=\"2018-12-01\", forecast_period=12, month_var=\"month\"\n",
    "                                                     , dependent_var=\"actuals\")\n",
    "    dec_forecast_df = pd.concat([nov_forecast_df, sku_series], axis=0, ignore_index=True)"
   ]
  },
  {
   "cell_type": "code",
   "execution_count": 103,
   "metadata": {},
   "outputs": [
    {
     "data": {
      "text/html": [
       "<div>\n",
       "<style scoped>\n",
       "    .dataframe tbody tr th:only-of-type {\n",
       "        vertical-align: middle;\n",
       "    }\n",
       "\n",
       "    .dataframe tbody tr th {\n",
       "        vertical-align: top;\n",
       "    }\n",
       "\n",
       "    .dataframe thead th {\n",
       "        text-align: right;\n",
       "    }\n",
       "</style>\n",
       "<table border=\"1\" class=\"dataframe\">\n",
       "  <thead>\n",
       "    <tr style=\"text-align: right;\">\n",
       "      <th></th>\n",
       "      <th>sub_brand</th>\n",
       "      <th>month</th>\n",
       "      <th>country</th>\n",
       "      <th>actuals</th>\n",
       "      <th>upsample</th>\n",
       "      <th>month_min</th>\n",
       "      <th>month_max</th>\n",
       "      <th>country_code</th>\n",
       "      <th>naive</th>\n",
       "      <th>ma_2</th>\n",
       "      <th>ma_3</th>\n",
       "      <th>ma_4</th>\n",
       "      <th>ma_5</th>\n",
       "      <th>Algorithm</th>\n",
       "      <th>Forecast</th>\n",
       "    </tr>\n",
       "  </thead>\n",
       "  <tbody>\n",
       "    <tr>\n",
       "      <th>174</th>\n",
       "      <td>231</td>\n",
       "      <td>2018-12-01</td>\n",
       "      <td>Australia</td>\n",
       "      <td>528320</td>\n",
       "      <td>0</td>\n",
       "      <td>2016-01-01</td>\n",
       "      <td>2018-12-01</td>\n",
       "      <td>AU</td>\n",
       "      <td>560282</td>\n",
       "      <td>449196</td>\n",
       "      <td>389644</td>\n",
       "      <td>354218</td>\n",
       "      <td>337343</td>\n",
       "      <td>red_forecast</td>\n",
       "      <td>307050</td>\n",
       "    </tr>\n",
       "  </tbody>\n",
       "</table>\n",
       "</div>"
      ],
      "text/plain": [
       "    sub_brand      month    country  actuals  upsample  month_min  month_max  \\\n",
       "174       231 2018-12-01  Australia   528320         0 2016-01-01 2018-12-01   \n",
       "\n",
       "    country_code  naive   ma_2   ma_3   ma_4   ma_5     Algorithm  Forecast  \n",
       "174           AU 560282 449196 389644 354218 337343  red_forecast    307050  "
      ]
     },
     "execution_count": 103,
     "metadata": {},
     "output_type": "execute_result"
    }
   ],
   "source": [
    "dec_forecast_df[(dec_forecast_df[\"month\"]==\"2018-12-01\") & (dec_forecast_df[\"sub_brand\"]==\"231\")]"
   ]
  },
  {
   "cell_type": "markdown",
   "metadata": {},
   "source": [
    "### Checking the results on December test data"
   ]
  },
  {
   "cell_type": "code",
   "execution_count": 104,
   "metadata": {},
   "outputs": [
    {
     "name": "stdout",
     "output_type": "stream",
     "text": [
      "ma_5 100\n",
      "ma_4 100\n",
      "ma_3 90.86297758112283\n",
      "ma_2 40.15676266861101\n",
      "naive 68.11528363854995\n",
      "seasonal naive 87.0020295104413\n",
      "ets 51.51686950779228\n",
      "Arima 42.55368605503604\n",
      "Reduction 28.1282422291183\n",
      "Prophet 80.34855359696013\n"
     ]
    }
   ],
   "source": [
    "print(\"ma_5\", gsk_error_analysis.calc_accuracy(dec_forecast_df[(dec_forecast_df[\"month\"]==\"2018-12-01\") & (dec_forecast_df[\"Algorithm\"]==\"ma_5\")], \"actuals\", \"Forecast\"))\n",
    "print(\"ma_4\", gsk_error_analysis.calc_accuracy(dec_forecast_df[(dec_forecast_df[\"month\"]==\"2018-12-01\") & (dec_forecast_df[\"Algorithm\"]==\"ma_4\")], \"actuals\", \"Forecast\"))\n",
    "print(\"ma_3\", gsk_error_analysis.calc_accuracy(dec_forecast_df[(dec_forecast_df[\"month\"]==\"2018-12-01\") & (dec_forecast_df[\"Algorithm\"]==\"ma_3\")], \"actuals\", \"Forecast\"))\n",
    "print(\"ma_2\", gsk_error_analysis.calc_accuracy(dec_forecast_df[(dec_forecast_df[\"month\"]==\"2018-12-01\") & (dec_forecast_df[\"Algorithm\"]==\"ma_2\")], \"actuals\", \"Forecast\"))\n",
    "print(\"naive\", gsk_error_analysis.calc_accuracy(dec_forecast_df[(dec_forecast_df[\"month\"]==\"2018-12-01\") & (dec_forecast_df[\"Algorithm\"]==\"naive\")], \"actuals\", \"Forecast\"))\n",
    "print(\"seasonal naive\", gsk_error_analysis.calc_accuracy(dec_forecast_df[(dec_forecast_df[\"month\"]==\"2018-12-01\") & (dec_forecast_df[\"Algorithm\"]==\"sn_forecast\")], \"actuals\", \"Forecast\"))\n",
    "print(\"ets\", gsk_error_analysis.calc_accuracy(dec_forecast_df[(dec_forecast_df[\"month\"]==\"2018-12-01\") & (dec_forecast_df[\"Algorithm\"]==\"ets_forecast\")], \"actuals\", \"Forecast\"))\n",
    "print(\"Arima\", gsk_error_analysis.calc_accuracy(dec_forecast_df[(dec_forecast_df[\"month\"]==\"2018-12-01\") & (dec_forecast_df[\"Algorithm\"]==\"arima_forecast\")], \"actuals\", \"Forecast\"))\n",
    "print(\"Reduction\", gsk_error_analysis.calc_accuracy(dec_forecast_df[(dec_forecast_df[\"month\"]==\"2018-12-01\") & (dec_forecast_df[\"Algorithm\"]==\"red_forecast\")], \"actuals\", \"Forecast\"))\n",
    "print(\"Prophet\", gsk_error_analysis.calc_accuracy(dec_forecast_df[(dec_forecast_df[\"month\"]==\"2018-12-01\") & (dec_forecast_df[\"Algorithm\"]==\"prophet_forecast\")], \"actuals\", \"Forecast\"))"
   ]
  },
  {
   "cell_type": "code",
   "execution_count": 105,
   "metadata": {},
   "outputs": [
    {
     "data": {
      "text/plain": [
       "63.60766898812944"
      ]
     },
     "execution_count": 105,
     "metadata": {},
     "output_type": "execute_result"
    }
   ],
   "source": [
    "gsk_error_analysis.calc_accuracy(dec_forecast_df[dec_forecast_df[\"month\"]==\"2018-12-01\"], \"actuals\", \"Forecast\")"
   ]
  },
  {
   "cell_type": "code",
   "execution_count": 109,
   "metadata": {},
   "outputs": [],
   "source": [
    "dec_forecast_df[\"abs_error\"] = abs(dec_forecast_df[\"actuals\"] - dec_forecast_df[\"Forecast\"])\n",
    "kp = dec_forecast_df[dec_forecast_df[\"month\"]==\"2018-12-01\"].sort_values(by=\"abs_error\", ascending=False)"
   ]
  },
  {
   "cell_type": "code",
   "execution_count": 119,
   "metadata": {},
   "outputs": [
    {
     "data": {
      "text/html": [
       "<div>\n",
       "<style scoped>\n",
       "    .dataframe tbody tr th:only-of-type {\n",
       "        vertical-align: middle;\n",
       "    }\n",
       "\n",
       "    .dataframe tbody tr th {\n",
       "        vertical-align: top;\n",
       "    }\n",
       "\n",
       "    .dataframe thead th {\n",
       "        text-align: right;\n",
       "    }\n",
       "</style>\n",
       "<table border=\"1\" class=\"dataframe\">\n",
       "  <thead>\n",
       "    <tr style=\"text-align: right;\">\n",
       "      <th></th>\n",
       "      <th>sub_brand</th>\n",
       "      <th>month</th>\n",
       "      <th>country</th>\n",
       "      <th>actuals</th>\n",
       "      <th>upsample</th>\n",
       "      <th>month_min</th>\n",
       "      <th>month_max</th>\n",
       "      <th>country_code</th>\n",
       "      <th>naive</th>\n",
       "      <th>ma_2</th>\n",
       "      <th>ma_3</th>\n",
       "      <th>ma_4</th>\n",
       "      <th>ma_5</th>\n",
       "      <th>Algorithm</th>\n",
       "      <th>Forecast</th>\n",
       "      <th>abs_error</th>\n",
       "    </tr>\n",
       "  </thead>\n",
       "  <tbody>\n",
       "    <tr>\n",
       "      <th>174</th>\n",
       "      <td>231</td>\n",
       "      <td>2018-12-01</td>\n",
       "      <td>Australia</td>\n",
       "      <td>528320</td>\n",
       "      <td>0</td>\n",
       "      <td>2016-01-01</td>\n",
       "      <td>2018-12-01</td>\n",
       "      <td>AU</td>\n",
       "      <td>560282</td>\n",
       "      <td>449196</td>\n",
       "      <td>389644</td>\n",
       "      <td>354218</td>\n",
       "      <td>337343</td>\n",
       "      <td>red_forecast</td>\n",
       "      <td>307050</td>\n",
       "      <td>221270</td>\n",
       "    </tr>\n",
       "    <tr>\n",
       "      <th>1240</th>\n",
       "      <td>AIFG02M05D</td>\n",
       "      <td>2018-12-01</td>\n",
       "      <td>Germany</td>\n",
       "      <td>75512</td>\n",
       "      <td>0</td>\n",
       "      <td>2016-04-01</td>\n",
       "      <td>2018-12-01</td>\n",
       "      <td>DE</td>\n",
       "      <td>85640</td>\n",
       "      <td>113015</td>\n",
       "      <td>182715</td>\n",
       "      <td>208135</td>\n",
       "      <td>194899</td>\n",
       "      <td>red_forecast</td>\n",
       "      <td>284396</td>\n",
       "      <td>208884</td>\n",
       "    </tr>\n",
       "    <tr>\n",
       "      <th>350</th>\n",
       "      <td>242</td>\n",
       "      <td>2018-12-01</td>\n",
       "      <td>Australia</td>\n",
       "      <td>165144</td>\n",
       "      <td>0</td>\n",
       "      <td>2016-01-01</td>\n",
       "      <td>2018-12-01</td>\n",
       "      <td>AU</td>\n",
       "      <td>137232</td>\n",
       "      <td>167448</td>\n",
       "      <td>157884</td>\n",
       "      <td>192498</td>\n",
       "      <td>184997</td>\n",
       "      <td>red_forecast</td>\n",
       "      <td>319884</td>\n",
       "      <td>154740</td>\n",
       "    </tr>\n",
       "    <tr>\n",
       "      <th>707</th>\n",
       "      <td>AF233340MS</td>\n",
       "      <td>2018-12-01</td>\n",
       "      <td>Poland</td>\n",
       "      <td>18864</td>\n",
       "      <td>0</td>\n",
       "      <td>2016-06-01</td>\n",
       "      <td>2018-12-01</td>\n",
       "      <td>PL</td>\n",
       "      <td>5016</td>\n",
       "      <td>7380</td>\n",
       "      <td>6080</td>\n",
       "      <td>7476</td>\n",
       "      <td>6816</td>\n",
       "      <td>red_forecast</td>\n",
       "      <td>0</td>\n",
       "      <td>18864</td>\n",
       "    </tr>\n",
       "    <tr>\n",
       "      <th>1281</th>\n",
       "      <td>AIFG02M05E</td>\n",
       "      <td>2018-12-01</td>\n",
       "      <td>Germany</td>\n",
       "      <td>35954</td>\n",
       "      <td>0</td>\n",
       "      <td>2016-04-01</td>\n",
       "      <td>2018-12-01</td>\n",
       "      <td>DE</td>\n",
       "      <td>139306</td>\n",
       "      <td>445362</td>\n",
       "      <td>468410</td>\n",
       "      <td>572359</td>\n",
       "      <td>538311</td>\n",
       "      <td>red_forecast</td>\n",
       "      <td>43033</td>\n",
       "      <td>7079</td>\n",
       "    </tr>\n",
       "    <tr>\n",
       "      <th>1322</th>\n",
       "      <td>AIFG02M05E</td>\n",
       "      <td>2018-12-01</td>\n",
       "      <td>Germany</td>\n",
       "      <td>35954</td>\n",
       "      <td>0</td>\n",
       "      <td>2016-04-01</td>\n",
       "      <td>2018-12-01</td>\n",
       "      <td>DE</td>\n",
       "      <td>139306</td>\n",
       "      <td>445362</td>\n",
       "      <td>468410</td>\n",
       "      <td>572359</td>\n",
       "      <td>538311</td>\n",
       "      <td>red_forecast</td>\n",
       "      <td>43033</td>\n",
       "      <td>7079</td>\n",
       "    </tr>\n",
       "  </tbody>\n",
       "</table>\n",
       "</div>"
      ],
      "text/plain": [
       "       sub_brand      month    country  actuals  upsample  month_min  \\\n",
       "174          231 2018-12-01  Australia   528320         0 2016-01-01   \n",
       "1240  AIFG02M05D 2018-12-01    Germany    75512         0 2016-04-01   \n",
       "350          242 2018-12-01  Australia   165144         0 2016-01-01   \n",
       "707   AF233340MS 2018-12-01     Poland    18864         0 2016-06-01   \n",
       "1281  AIFG02M05E 2018-12-01    Germany    35954         0 2016-04-01   \n",
       "1322  AIFG02M05E 2018-12-01    Germany    35954         0 2016-04-01   \n",
       "\n",
       "      month_max country_code  naive   ma_2   ma_3   ma_4   ma_5     Algorithm  \\\n",
       "174  2018-12-01           AU 560282 449196 389644 354218 337343  red_forecast   \n",
       "1240 2018-12-01           DE  85640 113015 182715 208135 194899  red_forecast   \n",
       "350  2018-12-01           AU 137232 167448 157884 192498 184997  red_forecast   \n",
       "707  2018-12-01           PL   5016   7380   6080   7476   6816  red_forecast   \n",
       "1281 2018-12-01           DE 139306 445362 468410 572359 538311  red_forecast   \n",
       "1322 2018-12-01           DE 139306 445362 468410 572359 538311  red_forecast   \n",
       "\n",
       "      Forecast  abs_error  \n",
       "174     307050     221270  \n",
       "1240    284396     208884  \n",
       "350     319884     154740  \n",
       "707          0      18864  \n",
       "1281     43033       7079  \n",
       "1322     43033       7079  "
      ]
     },
     "execution_count": 119,
     "metadata": {},
     "output_type": "execute_result"
    }
   ],
   "source": [
    "kp[kp[\"Algorithm\"]==\"red_forecast\"]"
   ]
  },
  {
   "cell_type": "code",
   "execution_count": 120,
   "metadata": {},
   "outputs": [
    {
     "data": {
      "image/png": "[encoded data removed]",
      "text/plain": [
       "<Figure size 1080x360 with 1 Axes>"
      ]
     },
     "metadata": {
      "needs_background": "light"
     },
     "output_type": "display_data"
    }
   ],
   "source": [
    "fig, axs = plt.subplots(figsize=(15, 5))\n",
    "sns.lineplot(x=\"month\"\n",
    "                  , y=\"actuals\"\n",
    "                  , markers=True\n",
    "                  , dashes=False\n",
    "                  , data=sb_data_ups[sb_data_ups[\"sub_brand\"]==\"AF233340MS\"])\n",
    "\n",
    "sns.lineplot(x=\"month\"\n",
    "                  , y=\"Forecast\"\n",
    "                  , markers=True\n",
    "                  , dashes=False\n",
    "                  , data=nov_forecast_df[nov_forecast_df[\"sub_brand\"]==\"AF233340MS\"])\n",
    "plt.xticks(nov_forecast_df[\"month\"].unique(), rotation='vertical')\n",
    "plt.show()"
   ]
  },
  {
   "cell_type": "code",
   "execution_count": null,
   "metadata": {},
   "outputs": [],
   "source": []
  }
 ],
 "metadata": {
  "kernelspec": {
   "display_name": "Python 3",
   "language": "python",
   "name": "python3"
  },
  "language_info": {
   "codemirror_mode": {
    "name": "ipython",
    "version": 3
   },
   "file_extension": ".py",
   "mimetype": "text/x-python",
   "name": "python",
   "nbconvert_exporter": "python",
   "pygments_lexer": "ipython3",
   "version": "3.8.5"
  }
 },
 "nbformat": 4,
 "nbformat_minor": 4
}
